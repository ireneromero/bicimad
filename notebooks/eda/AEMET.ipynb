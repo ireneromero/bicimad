{
 "cells": [
  {
   "cell_type": "code",
   "execution_count": 1,
   "metadata": {},
   "outputs": [],
   "source": [
    "import pandas as pd\n",
    "import numpy as np\n",
    "import matplotlib.pyplot as plt"
   ]
  },
  {
   "cell_type": "markdown",
   "metadata": {},
   "source": [
    "Descargado de OpenData de AEMET datos para el mes de septiembre de 2018:"
   ]
  },
  {
   "cell_type": "code",
   "execution_count": 2,
   "metadata": {},
   "outputs": [],
   "source": [
    "PATH_AEMET_PER_DAY = '../../data/raw/other-data/aemet_per_day.json'\n",
    "PATH_BIKES = '../../data/raw/bike_data.csv'"
   ]
  },
  {
   "cell_type": "code",
   "execution_count": 3,
   "metadata": {},
   "outputs": [],
   "source": [
    "df_weather = pd.read_json(PATH_AEMET_PER_DAY, orient='records')\n",
    "df_bikes = pd.read_csv(PATH_BIKES)"
   ]
  },
  {
   "cell_type": "code",
   "execution_count": 4,
   "metadata": {},
   "outputs": [
    {
     "data": {
      "text/html": [
       "<div>\n",
       "<style scoped>\n",
       "    .dataframe tbody tr th:only-of-type {\n",
       "        vertical-align: middle;\n",
       "    }\n",
       "\n",
       "    .dataframe tbody tr th {\n",
       "        vertical-align: top;\n",
       "    }\n",
       "\n",
       "    .dataframe thead th {\n",
       "        text-align: right;\n",
       "    }\n",
       "</style>\n",
       "<table border=\"1\" class=\"dataframe\">\n",
       "  <thead>\n",
       "    <tr style=\"text-align: right;\">\n",
       "      <th></th>\n",
       "      <th>fecha</th>\n",
       "      <th>indicativo</th>\n",
       "      <th>nombre</th>\n",
       "      <th>provincia</th>\n",
       "      <th>altitud</th>\n",
       "      <th>tmed</th>\n",
       "      <th>prec</th>\n",
       "      <th>tmin</th>\n",
       "      <th>horatmin</th>\n",
       "      <th>tmax</th>\n",
       "      <th>horatmax</th>\n",
       "      <th>dir</th>\n",
       "      <th>velmedia</th>\n",
       "      <th>racha</th>\n",
       "      <th>horaracha</th>\n",
       "      <th>presMax</th>\n",
       "      <th>horaPresMax</th>\n",
       "      <th>presMin</th>\n",
       "      <th>horaPresMin</th>\n",
       "    </tr>\n",
       "  </thead>\n",
       "  <tbody>\n",
       "    <tr>\n",
       "      <th>0</th>\n",
       "      <td>2018-09-01</td>\n",
       "      <td>3195</td>\n",
       "      <td>MADRID, RETIRO</td>\n",
       "      <td>MADRID</td>\n",
       "      <td>667</td>\n",
       "      <td>27,3</td>\n",
       "      <td>0,0</td>\n",
       "      <td>21,0</td>\n",
       "      <td>06:50</td>\n",
       "      <td>33,6</td>\n",
       "      <td>13:40</td>\n",
       "      <td>4</td>\n",
       "      <td>1,1</td>\n",
       "      <td>7,5</td>\n",
       "      <td>01:50</td>\n",
       "      <td>943,4</td>\n",
       "      <td>10</td>\n",
       "      <td>939,2</td>\n",
       "      <td>19</td>\n",
       "    </tr>\n",
       "    <tr>\n",
       "      <th>1</th>\n",
       "      <td>2018-09-02</td>\n",
       "      <td>3195</td>\n",
       "      <td>MADRID, RETIRO</td>\n",
       "      <td>MADRID</td>\n",
       "      <td>667</td>\n",
       "      <td>27,5</td>\n",
       "      <td>1,2</td>\n",
       "      <td>20,2</td>\n",
       "      <td>22:10</td>\n",
       "      <td>34,8</td>\n",
       "      <td>14:30</td>\n",
       "      <td>34</td>\n",
       "      <td>1,7</td>\n",
       "      <td>9,2</td>\n",
       "      <td>22:40</td>\n",
       "      <td>942,4</td>\n",
       "      <td>08</td>\n",
       "      <td>937,0</td>\n",
       "      <td>18</td>\n",
       "    </tr>\n",
       "    <tr>\n",
       "      <th>2</th>\n",
       "      <td>2018-09-03</td>\n",
       "      <td>3195</td>\n",
       "      <td>MADRID, RETIRO</td>\n",
       "      <td>MADRID</td>\n",
       "      <td>667</td>\n",
       "      <td>26,8</td>\n",
       "      <td>0,0</td>\n",
       "      <td>22,3</td>\n",
       "      <td>06:10</td>\n",
       "      <td>31,3</td>\n",
       "      <td>14:50</td>\n",
       "      <td>11</td>\n",
       "      <td>1,7</td>\n",
       "      <td>7,8</td>\n",
       "      <td>03:40</td>\n",
       "      <td>937,5</td>\n",
       "      <td>10</td>\n",
       "      <td>933,7</td>\n",
       "      <td>16</td>\n",
       "    </tr>\n",
       "    <tr>\n",
       "      <th>3</th>\n",
       "      <td>2018-09-04</td>\n",
       "      <td>3195</td>\n",
       "      <td>MADRID, RETIRO</td>\n",
       "      <td>MADRID</td>\n",
       "      <td>667</td>\n",
       "      <td>24,4</td>\n",
       "      <td>0,0</td>\n",
       "      <td>19,4</td>\n",
       "      <td>06:20</td>\n",
       "      <td>29,5</td>\n",
       "      <td>13:30</td>\n",
       "      <td>18</td>\n",
       "      <td>1,4</td>\n",
       "      <td>6,9</td>\n",
       "      <td>15:20</td>\n",
       "      <td>938,5</td>\n",
       "      <td>08</td>\n",
       "      <td>934,6</td>\n",
       "      <td>17</td>\n",
       "    </tr>\n",
       "    <tr>\n",
       "      <th>4</th>\n",
       "      <td>2018-09-05</td>\n",
       "      <td>3195</td>\n",
       "      <td>MADRID, RETIRO</td>\n",
       "      <td>MADRID</td>\n",
       "      <td>667</td>\n",
       "      <td>23,0</td>\n",
       "      <td>0,0</td>\n",
       "      <td>18,3</td>\n",
       "      <td>05:10</td>\n",
       "      <td>27,8</td>\n",
       "      <td>13:40</td>\n",
       "      <td>25</td>\n",
       "      <td>2,8</td>\n",
       "      <td>10,0</td>\n",
       "      <td>19:30</td>\n",
       "      <td>939,6</td>\n",
       "      <td>09</td>\n",
       "      <td>936,6</td>\n",
       "      <td>18</td>\n",
       "    </tr>\n",
       "  </tbody>\n",
       "</table>\n",
       "</div>"
      ],
      "text/plain": [
       "        fecha  indicativo          nombre provincia  altitud  tmed prec  tmin  \\\n",
       "0  2018-09-01        3195  MADRID, RETIRO    MADRID      667  27,3  0,0  21,0   \n",
       "1  2018-09-02        3195  MADRID, RETIRO    MADRID      667  27,5  1,2  20,2   \n",
       "2  2018-09-03        3195  MADRID, RETIRO    MADRID      667  26,8  0,0  22,3   \n",
       "3  2018-09-04        3195  MADRID, RETIRO    MADRID      667  24,4  0,0  19,4   \n",
       "4  2018-09-05        3195  MADRID, RETIRO    MADRID      667  23,0  0,0  18,3   \n",
       "\n",
       "  horatmin  tmax horatmax  dir velmedia racha horaracha presMax horaPresMax  \\\n",
       "0    06:50  33,6    13:40    4      1,1   7,5     01:50   943,4          10   \n",
       "1    22:10  34,8    14:30   34      1,7   9,2     22:40   942,4          08   \n",
       "2    06:10  31,3    14:50   11      1,7   7,8     03:40   937,5          10   \n",
       "3    06:20  29,5    13:30   18      1,4   6,9     15:20   938,5          08   \n",
       "4    05:10  27,8    13:40   25      2,8  10,0     19:30   939,6          09   \n",
       "\n",
       "  presMin horaPresMin  \n",
       "0   939,2          19  \n",
       "1   937,0          18  \n",
       "2   933,7          16  \n",
       "3   934,6          17  \n",
       "4   936,6          18  "
      ]
     },
     "execution_count": 4,
     "metadata": {},
     "output_type": "execute_result"
    }
   ],
   "source": [
    "df_weather.head()"
   ]
  },
  {
   "cell_type": "code",
   "execution_count": 5,
   "metadata": {},
   "outputs": [
    {
     "data": {
      "text/plain": [
       "(28, 19)"
      ]
     },
     "execution_count": 5,
     "metadata": {},
     "output_type": "execute_result"
    }
   ],
   "source": [
    "df_weather.shape"
   ]
  },
  {
   "cell_type": "markdown",
   "metadata": {},
   "source": [
    "Sólo vamos a emplear el viento, las precipitaciones y la temperatura. Aemet sólo nos proporciona la información diaria, no horaria. Para la predicción de la demanda horaria, necesitamos estimar los valores de estas magnitudes por horaria:\n",
    "- Para el viento, asumimos esa velocidad media para todo el día. \n",
    "- Para las precipitaciones:\n",
    "    - Decidir si distribuir esas precipitaciones a lo largo del día (mmm no) o dejar esas precipitaciones para todo el día -> analizar si hay un comportamiento extraño\n",
    "- Para la temperatura:\n",
    "    - Asumir que la temperatura varía a lo largo del día n de manera lineal en los siguientes tramos:\n",
    "        - [horatmin(n), tmin(n)] -> [horatmax(n), tmax(n)]\n",
    "        - [horatmax(n), tmax(n)] -> [horatmax(n+1), tmax(n+1)]"
   ]
  },
  {
   "cell_type": "code",
   "execution_count": 5,
   "metadata": {},
   "outputs": [],
   "source": [
    "df_weather['weather_date'] = pd.to_datetime(df_weather['fecha'])"
   ]
  },
  {
   "cell_type": "code",
   "execution_count": 63,
   "metadata": {},
   "outputs": [],
   "source": [
    "df_bikes['ride_date'] = pd.to_datetime(pd.to_datetime(df_bikes['unplug_hourTime']).dt.date)"
   ]
  },
  {
   "cell_type": "code",
   "execution_count": 80,
   "metadata": {},
   "outputs": [],
   "source": [
    "df_rides_per_day = df_bikes.groupby('ride_date').size().reset_index(name='rides')"
   ]
  },
  {
   "cell_type": "code",
   "execution_count": 81,
   "metadata": {},
   "outputs": [],
   "source": [
    "df_rides_per_day = df_rides_per_day.merge(df_weather[['weather_date', 'tmed', 'prec', 'velmedia']], how='left', left_on='ride_date', right_on='weather_date').drop(columns='weather_date')"
   ]
  },
  {
   "cell_type": "code",
   "execution_count": 89,
   "metadata": {},
   "outputs": [
    {
     "data": {
      "text/html": [
       "<div>\n",
       "<style scoped>\n",
       "    .dataframe tbody tr th:only-of-type {\n",
       "        vertical-align: middle;\n",
       "    }\n",
       "\n",
       "    .dataframe tbody tr th {\n",
       "        vertical-align: top;\n",
       "    }\n",
       "\n",
       "    .dataframe thead th {\n",
       "        text-align: right;\n",
       "    }\n",
       "</style>\n",
       "<table border=\"1\" class=\"dataframe\">\n",
       "  <thead>\n",
       "    <tr style=\"text-align: right;\">\n",
       "      <th></th>\n",
       "      <th>ride_date</th>\n",
       "      <th>rides</th>\n",
       "      <th>tmed</th>\n",
       "      <th>prec</th>\n",
       "      <th>velmedia</th>\n",
       "      <th>day_of_week</th>\n",
       "    </tr>\n",
       "  </thead>\n",
       "  <tbody>\n",
       "    <tr>\n",
       "      <th>0</th>\n",
       "      <td>2018-09-01</td>\n",
       "      <td>9762</td>\n",
       "      <td>27,3</td>\n",
       "      <td>0,0</td>\n",
       "      <td>1,1</td>\n",
       "      <td>5</td>\n",
       "    </tr>\n",
       "    <tr>\n",
       "      <th>1</th>\n",
       "      <td>2018-09-02</td>\n",
       "      <td>9882</td>\n",
       "      <td>27,5</td>\n",
       "      <td>1,2</td>\n",
       "      <td>1,7</td>\n",
       "      <td>6</td>\n",
       "    </tr>\n",
       "    <tr>\n",
       "      <th>2</th>\n",
       "      <td>2018-09-03</td>\n",
       "      <td>14631</td>\n",
       "      <td>26,8</td>\n",
       "      <td>0,0</td>\n",
       "      <td>1,7</td>\n",
       "      <td>0</td>\n",
       "    </tr>\n",
       "    <tr>\n",
       "      <th>3</th>\n",
       "      <td>2018-09-04</td>\n",
       "      <td>15957</td>\n",
       "      <td>24,4</td>\n",
       "      <td>0,0</td>\n",
       "      <td>1,4</td>\n",
       "      <td>1</td>\n",
       "    </tr>\n",
       "    <tr>\n",
       "      <th>4</th>\n",
       "      <td>2018-09-05</td>\n",
       "      <td>16058</td>\n",
       "      <td>23,0</td>\n",
       "      <td>0,0</td>\n",
       "      <td>2,8</td>\n",
       "      <td>2</td>\n",
       "    </tr>\n",
       "  </tbody>\n",
       "</table>\n",
       "</div>"
      ],
      "text/plain": [
       "   ride_date  rides  tmed prec velmedia  day_of_week\n",
       "0 2018-09-01   9762  27,3  0,0      1,1            5\n",
       "1 2018-09-02   9882  27,5  1,2      1,7            6\n",
       "2 2018-09-03  14631  26,8  0,0      1,7            0\n",
       "3 2018-09-04  15957  24,4  0,0      1,4            1\n",
       "4 2018-09-05  16058  23,0  0,0      2,8            2"
      ]
     },
     "execution_count": 89,
     "metadata": {},
     "output_type": "execute_result"
    }
   ],
   "source": [
    "df_rides_per_day.head()"
   ]
  },
  {
   "cell_type": "code",
   "execution_count": 90,
   "metadata": {},
   "outputs": [],
   "source": [
    "day_of_week_dict = {\n",
    "    0: 'Mon',\n",
    "    1: 'Tue',\n",
    "    2: 'Wed',\n",
    "    3: 'Thu',\n",
    "    4: 'Fri',\n",
    "    5: 'Sat',\n",
    "    6: 'Sun'\n",
    "}"
   ]
  },
  {
   "cell_type": "code",
   "execution_count": 87,
   "metadata": {},
   "outputs": [],
   "source": [
    "df_rides_per_day['day_of_week'] = df_rides_per_day['ride_date'].dt.dayofweek"
   ]
  },
  {
   "cell_type": "code",
   "execution_count": 91,
   "metadata": {},
   "outputs": [],
   "source": [
    "df_rides_per_day['day_of_week'] = df_rides_per_day['day_of_week'].map(day_of_week_dict)"
   ]
  },
  {
   "cell_type": "code",
   "execution_count": 94,
   "metadata": {},
   "outputs": [
    {
     "data": {
      "text/html": [
       "<div>\n",
       "<style scoped>\n",
       "    .dataframe tbody tr th:only-of-type {\n",
       "        vertical-align: middle;\n",
       "    }\n",
       "\n",
       "    .dataframe tbody tr th {\n",
       "        vertical-align: top;\n",
       "    }\n",
       "\n",
       "    .dataframe thead th {\n",
       "        text-align: right;\n",
       "    }\n",
       "</style>\n",
       "<table border=\"1\" class=\"dataframe\">\n",
       "  <thead>\n",
       "    <tr style=\"text-align: right;\">\n",
       "      <th></th>\n",
       "      <th>ride_date</th>\n",
       "      <th>rides</th>\n",
       "      <th>tmed</th>\n",
       "      <th>prec</th>\n",
       "      <th>velmedia</th>\n",
       "      <th>day_of_week</th>\n",
       "    </tr>\n",
       "  </thead>\n",
       "  <tbody>\n",
       "    <tr>\n",
       "      <th>0</th>\n",
       "      <td>2018-09-01</td>\n",
       "      <td>9762</td>\n",
       "      <td>27,3</td>\n",
       "      <td>0,0</td>\n",
       "      <td>1,1</td>\n",
       "      <td>Sat</td>\n",
       "    </tr>\n",
       "    <tr>\n",
       "      <th>1</th>\n",
       "      <td>2018-09-02</td>\n",
       "      <td>9882</td>\n",
       "      <td>27,5</td>\n",
       "      <td>1,2</td>\n",
       "      <td>1,7</td>\n",
       "      <td>Sun</td>\n",
       "    </tr>\n",
       "    <tr>\n",
       "      <th>2</th>\n",
       "      <td>2018-09-03</td>\n",
       "      <td>14631</td>\n",
       "      <td>26,8</td>\n",
       "      <td>0,0</td>\n",
       "      <td>1,7</td>\n",
       "      <td>Mon</td>\n",
       "    </tr>\n",
       "    <tr>\n",
       "      <th>3</th>\n",
       "      <td>2018-09-04</td>\n",
       "      <td>15957</td>\n",
       "      <td>24,4</td>\n",
       "      <td>0,0</td>\n",
       "      <td>1,4</td>\n",
       "      <td>Tue</td>\n",
       "    </tr>\n",
       "    <tr>\n",
       "      <th>4</th>\n",
       "      <td>2018-09-05</td>\n",
       "      <td>16058</td>\n",
       "      <td>23,0</td>\n",
       "      <td>0,0</td>\n",
       "      <td>2,8</td>\n",
       "      <td>Wed</td>\n",
       "    </tr>\n",
       "  </tbody>\n",
       "</table>\n",
       "</div>"
      ],
      "text/plain": [
       "   ride_date  rides  tmed prec velmedia day_of_week\n",
       "0 2018-09-01   9762  27,3  0,0      1,1         Sat\n",
       "1 2018-09-02   9882  27,5  1,2      1,7         Sun\n",
       "2 2018-09-03  14631  26,8  0,0      1,7         Mon\n",
       "3 2018-09-04  15957  24,4  0,0      1,4         Tue\n",
       "4 2018-09-05  16058  23,0  0,0      2,8         Wed"
      ]
     },
     "execution_count": 94,
     "metadata": {},
     "output_type": "execute_result"
    }
   ],
   "source": [
    "df_rides_per_day.head()"
   ]
  },
  {
   "cell_type": "code",
   "execution_count": 96,
   "metadata": {},
   "outputs": [
    {
     "data": {
      "text/plain": [
       "[<matplotlib.lines.Line2D at 0x7fc3e8bb95b0>]"
      ]
     },
     "execution_count": 96,
     "metadata": {},
     "output_type": "execute_result"
    },
    {
     "data": {
      "image/png": "[encoded data removed]",
      "text/plain": [
       "<Figure size 432x288 with 1 Axes>"
      ]
     },
     "metadata": {
      "needs_background": "light"
     },
     "output_type": "display_data"
    }
   ],
   "source": [
    "plt.plot(df_rides_per_day['rides'])"
   ]
  },
  {
   "cell_type": "code",
   "execution_count": 97,
   "metadata": {},
   "outputs": [
    {
     "data": {
      "text/plain": [
       "[<matplotlib.lines.Line2D at 0x7fc3e836c970>]"
      ]
     },
     "execution_count": 97,
     "metadata": {},
     "output_type": "execute_result"
    },
    {
     "data": {
      "image/png": "[encoded data removed]",
      "text/plain": [
       "<Figure size 432x288 with 1 Axes>"
      ]
     },
     "metadata": {
      "needs_background": "light"
     },
     "output_type": "display_data"
    }
   ],
   "source": [
    "plt.plot(df_rides_per_day['prec'])"
   ]
  },
  {
   "cell_type": "code",
   "execution_count": 99,
   "metadata": {},
   "outputs": [],
   "source": [
    "import seaborn as sns"
   ]
  },
  {
   "cell_type": "code",
   "execution_count": 134,
   "metadata": {},
   "outputs": [
    {
     "name": "stderr",
     "output_type": "stream",
     "text": [
      "<ipython-input-134-10808c6c33a6>:12: UserWarning: Legend does not support [<matplotlib.lines.Line2D object at 0x7fc3e18e0f70>] instances.\n",
      "A proxy artist may be used instead.\n",
      "See: http://matplotlib.org/users/legend_guide.html#creating-artists-specifically-for-adding-to-the-legend-aka-proxy-artists\n",
      "  fig.legend((l1, l2), ('a,', 'b'))\n",
      "<ipython-input-134-10808c6c33a6>:12: UserWarning: Legend does not support [<matplotlib.lines.Line2D object at 0x7fc3e18adfd0>] instances.\n",
      "A proxy artist may be used instead.\n",
      "See: http://matplotlib.org/users/legend_guide.html#creating-artists-specifically-for-adding-to-the-legend-aka-proxy-artists\n",
      "  fig.legend((l1, l2), ('a,', 'b'))\n"
     ]
    },
    {
     "data": {
      "image/png": "[encoded data removed]",
      "text/plain": [
       "<Figure size 1080x432 with 2 Axes>"
      ]
     },
     "metadata": {},
     "output_type": "display_data"
    }
   ],
   "source": [
    "fig, ax1 = plt.subplots(figsize=(15,6))\n",
    "ax1.set_xlabel('Fecha')\n",
    "ax1.set_ylabel('Número de trayectos')\n",
    "l1 = ax1.plot(df_rides_per_day['ride_date'], df_rides_per_day['rides'], color='r')\n",
    "\n",
    "ax2 = ax1.twinx()\n",
    "ax2.set_ylabel('Precipitaciones')\n",
    "l2 = ax2.plot(df_rides_per_day['ride_date'], df_rides_per_day['prec'], color='b')\n",
    "\n",
    "handles, labels = ax1.get_legend_handles_labels()\n",
    "fig.tight_layout()\n",
    "fig.legend((l1, l2), ('a,', 'b'))\n",
    "plt.show()"
   ]
  },
  {
   "cell_type": "code",
   "execution_count": 126,
   "metadata": {},
   "outputs": [
    {
     "data": {
      "text/plain": [
       "[]"
      ]
     },
     "execution_count": 126,
     "metadata": {},
     "output_type": "execute_result"
    }
   ],
   "source": [
    "handles"
   ]
  },
  {
   "cell_type": "code",
   "execution_count": 102,
   "metadata": {},
   "outputs": [
    {
     "ename": "ValueError",
     "evalue": "These `style` levels are missing markers: {'0,5'}",
     "output_type": "error",
     "traceback": [
      "\u001b[0;31m---------------------------------------------------------------------------\u001b[0m",
      "\u001b[0;31mValueError\u001b[0m                                Traceback (most recent call last)",
      "\u001b[0;32m<ipython-input-102-e6bdd3130b5d>\u001b[0m in \u001b[0;36m<module>\u001b[0;34m\u001b[0m\n\u001b[1;32m      3\u001b[0m \u001b[0;34m\u001b[0m\u001b[0m\n\u001b[1;32m      4\u001b[0m \u001b[0;31m# Draw line plot of size and total_bill with parameters and hue \"day\"\u001b[0m\u001b[0;34m\u001b[0m\u001b[0;34m\u001b[0m\u001b[0;34m\u001b[0m\u001b[0m\n\u001b[0;32m----> 5\u001b[0;31m sns.lineplot(x = \"ride_date\", y = \"rides\", data = df_rides_per_day, hue = \"prec\",\n\u001b[0m\u001b[1;32m      6\u001b[0m             \u001b[0mstyle\u001b[0m \u001b[0;34m=\u001b[0m \u001b[0;34m\"prec\"\u001b[0m\u001b[0;34m,\u001b[0m \u001b[0mpalette\u001b[0m \u001b[0;34m=\u001b[0m \u001b[0;34m\"hot\"\u001b[0m\u001b[0;34m,\u001b[0m \u001b[0mdashes\u001b[0m \u001b[0;34m=\u001b[0m \u001b[0;32mFalse\u001b[0m\u001b[0;34m,\u001b[0m\u001b[0;34m\u001b[0m\u001b[0;34m\u001b[0m\u001b[0m\n\u001b[1;32m      7\u001b[0m             markers = [\"o\", \"<\", \">\", \"^\"],  legend=\"brief\",)\n",
      "\u001b[0;32m~/anaconda3/envs/keepler-bicimad-env/lib/python3.8/site-packages/seaborn/relational.py\u001b[0m in \u001b[0;36mlineplot\u001b[0;34m(x, y, hue, size, style, data, palette, hue_order, hue_norm, sizes, size_order, size_norm, dashes, markers, style_order, units, estimator, ci, n_boot, seed, sort, err_style, err_kws, legend, ax, **kwargs)\u001b[0m\n\u001b[1;32m   1118\u001b[0m              legend=\"brief\", ax=None, **kwargs):\n\u001b[1;32m   1119\u001b[0m \u001b[0;34m\u001b[0m\u001b[0m\n\u001b[0;32m-> 1120\u001b[0;31m     p = _LinePlotter(\n\u001b[0m\u001b[1;32m   1121\u001b[0m         \u001b[0mx\u001b[0m\u001b[0;34m=\u001b[0m\u001b[0mx\u001b[0m\u001b[0;34m,\u001b[0m \u001b[0my\u001b[0m\u001b[0;34m=\u001b[0m\u001b[0my\u001b[0m\u001b[0;34m,\u001b[0m \u001b[0mhue\u001b[0m\u001b[0;34m=\u001b[0m\u001b[0mhue\u001b[0m\u001b[0;34m,\u001b[0m \u001b[0msize\u001b[0m\u001b[0;34m=\u001b[0m\u001b[0msize\u001b[0m\u001b[0;34m,\u001b[0m \u001b[0mstyle\u001b[0m\u001b[0;34m=\u001b[0m\u001b[0mstyle\u001b[0m\u001b[0;34m,\u001b[0m \u001b[0mdata\u001b[0m\u001b[0;34m=\u001b[0m\u001b[0mdata\u001b[0m\u001b[0;34m,\u001b[0m\u001b[0;34m\u001b[0m\u001b[0;34m\u001b[0m\u001b[0m\n\u001b[1;32m   1122\u001b[0m         \u001b[0mpalette\u001b[0m\u001b[0;34m=\u001b[0m\u001b[0mpalette\u001b[0m\u001b[0;34m,\u001b[0m \u001b[0mhue_order\u001b[0m\u001b[0;34m=\u001b[0m\u001b[0mhue_order\u001b[0m\u001b[0;34m,\u001b[0m \u001b[0mhue_norm\u001b[0m\u001b[0;34m=\u001b[0m\u001b[0mhue_norm\u001b[0m\u001b[0;34m,\u001b[0m\u001b[0;34m\u001b[0m\u001b[0;34m\u001b[0m\u001b[0m\n",
      "\u001b[0;32m~/anaconda3/envs/keepler-bicimad-env/lib/python3.8/site-packages/seaborn/relational.py\u001b[0m in \u001b[0;36m__init__\u001b[0;34m(self, x, y, hue, size, style, data, palette, hue_order, hue_norm, sizes, size_order, size_norm, dashes, markers, style_order, units, estimator, ci, n_boot, seed, sort, err_style, err_kws, legend)\u001b[0m\n\u001b[1;32m    702\u001b[0m         \u001b[0mself\u001b[0m\u001b[0;34m.\u001b[0m\u001b[0mparse_hue\u001b[0m\u001b[0;34m(\u001b[0m\u001b[0mplot_data\u001b[0m\u001b[0;34m[\u001b[0m\u001b[0;34m\"hue\"\u001b[0m\u001b[0;34m]\u001b[0m\u001b[0;34m,\u001b[0m \u001b[0mpalette\u001b[0m\u001b[0;34m,\u001b[0m \u001b[0mhue_order\u001b[0m\u001b[0;34m,\u001b[0m \u001b[0mhue_norm\u001b[0m\u001b[0;34m)\u001b[0m\u001b[0;34m\u001b[0m\u001b[0;34m\u001b[0m\u001b[0m\n\u001b[1;32m    703\u001b[0m         \u001b[0mself\u001b[0m\u001b[0;34m.\u001b[0m\u001b[0mparse_size\u001b[0m\u001b[0;34m(\u001b[0m\u001b[0mplot_data\u001b[0m\u001b[0;34m[\u001b[0m\u001b[0;34m\"size\"\u001b[0m\u001b[0;34m]\u001b[0m\u001b[0;34m,\u001b[0m \u001b[0msizes\u001b[0m\u001b[0;34m,\u001b[0m \u001b[0msize_order\u001b[0m\u001b[0;34m,\u001b[0m \u001b[0msize_norm\u001b[0m\u001b[0;34m)\u001b[0m\u001b[0;34m\u001b[0m\u001b[0;34m\u001b[0m\u001b[0m\n\u001b[0;32m--> 704\u001b[0;31m         \u001b[0mself\u001b[0m\u001b[0;34m.\u001b[0m\u001b[0mparse_style\u001b[0m\u001b[0;34m(\u001b[0m\u001b[0mplot_data\u001b[0m\u001b[0;34m[\u001b[0m\u001b[0;34m\"style\"\u001b[0m\u001b[0;34m]\u001b[0m\u001b[0;34m,\u001b[0m \u001b[0mmarkers\u001b[0m\u001b[0;34m,\u001b[0m \u001b[0mdashes\u001b[0m\u001b[0;34m,\u001b[0m \u001b[0mstyle_order\u001b[0m\u001b[0;34m)\u001b[0m\u001b[0;34m\u001b[0m\u001b[0;34m\u001b[0m\u001b[0m\n\u001b[0m\u001b[1;32m    705\u001b[0m \u001b[0;34m\u001b[0m\u001b[0m\n\u001b[1;32m    706\u001b[0m         \u001b[0mself\u001b[0m\u001b[0;34m.\u001b[0m\u001b[0munits\u001b[0m \u001b[0;34m=\u001b[0m \u001b[0munits\u001b[0m\u001b[0;34m\u001b[0m\u001b[0;34m\u001b[0m\u001b[0m\n",
      "\u001b[0;32m~/anaconda3/envs/keepler-bicimad-env/lib/python3.8/site-packages/seaborn/relational.py\u001b[0m in \u001b[0;36mparse_style\u001b[0;34m(self, data, markers, dashes, order)\u001b[0m\n\u001b[1;32m    515\u001b[0m                 \u001b[0mlevels\u001b[0m \u001b[0;34m=\u001b[0m \u001b[0morder\u001b[0m\u001b[0;34m\u001b[0m\u001b[0;34m\u001b[0m\u001b[0m\n\u001b[1;32m    516\u001b[0m \u001b[0;34m\u001b[0m\u001b[0m\n\u001b[0;32m--> 517\u001b[0;31m             markers = self.style_to_attributes(\n\u001b[0m\u001b[1;32m    518\u001b[0m                 \u001b[0mlevels\u001b[0m\u001b[0;34m,\u001b[0m \u001b[0mmarkers\u001b[0m\u001b[0;34m,\u001b[0m \u001b[0mself\u001b[0m\u001b[0;34m.\u001b[0m\u001b[0mdefault_markers\u001b[0m\u001b[0;34m,\u001b[0m \u001b[0;34m\"markers\"\u001b[0m\u001b[0;34m\u001b[0m\u001b[0;34m\u001b[0m\u001b[0m\n\u001b[1;32m    519\u001b[0m             )\n",
      "\u001b[0;32m~/anaconda3/envs/keepler-bicimad-env/lib/python3.8/site-packages/seaborn/relational.py\u001b[0m in \u001b[0;36mstyle_to_attributes\u001b[0;34m(self, levels, style, defaults, name)\u001b[0m\n\u001b[1;32m    302\u001b[0m             \u001b[0;32mif\u001b[0m \u001b[0many\u001b[0m\u001b[0;34m(\u001b[0m\u001b[0mmissing_levels\u001b[0m\u001b[0;34m)\u001b[0m\u001b[0;34m:\u001b[0m\u001b[0;34m\u001b[0m\u001b[0;34m\u001b[0m\u001b[0m\n\u001b[1;32m    303\u001b[0m                 \u001b[0merr\u001b[0m \u001b[0;34m=\u001b[0m \u001b[0;34m\"These `style` levels are missing {}: {}\"\u001b[0m\u001b[0;34m\u001b[0m\u001b[0;34m\u001b[0m\u001b[0m\n\u001b[0;32m--> 304\u001b[0;31m                 \u001b[0;32mraise\u001b[0m \u001b[0mValueError\u001b[0m\u001b[0;34m(\u001b[0m\u001b[0merr\u001b[0m\u001b[0;34m.\u001b[0m\u001b[0mformat\u001b[0m\u001b[0;34m(\u001b[0m\u001b[0mname\u001b[0m\u001b[0;34m,\u001b[0m \u001b[0mmissing_levels\u001b[0m\u001b[0;34m)\u001b[0m\u001b[0;34m)\u001b[0m\u001b[0;34m\u001b[0m\u001b[0;34m\u001b[0m\u001b[0m\n\u001b[0m\u001b[1;32m    305\u001b[0m \u001b[0;34m\u001b[0m\u001b[0m\n\u001b[1;32m    306\u001b[0m         \u001b[0;32mreturn\u001b[0m \u001b[0mattrdict\u001b[0m\u001b[0;34m\u001b[0m\u001b[0;34m\u001b[0m\u001b[0m\n",
      "\u001b[0;31mValueError\u001b[0m: These `style` levels are missing markers: {'0,5'}"
     ]
    },
    {
     "data": {
      "text/plain": [
       "<Figure size 1152x648 with 0 Axes>"
      ]
     },
     "metadata": {},
     "output_type": "display_data"
    }
   ],
   "source": [
    "plt.figure(figsize = (16,9))\n",
    "sns.set(style='darkgrid',)\n",
    " \n",
    "# Draw line plot of size and total_bill with parameters and hue \"day\"\n",
    "sns.lineplot(x = \"ride_date\", y = \"rides\", data = df_rides_per_day, hue = \"prec\",\n",
    "            style = \"prec\", palette = \"hot\", dashes = False, \n",
    "            markers = [\"o\", \"<\", \">\", \"^\"],  legend=\"brief\",)\n",
    " \n",
    "plt.title(\"Line Plot\", fontsize = 20)\n",
    "plt.xlabel(\"Size\", fontsize = 15)\n",
    "plt.ylabel(\"Total Bill\", fontsize = 15)\n",
    "plt.show()"
   ]
  }
 ],
 "metadata": {
  "kernelspec": {
   "display_name": "Python 3",
   "language": "python",
   "name": "python3"
  },
  "language_info": {
   "codemirror_mode": {
    "name": "ipython",
    "version": 3
   },
   "file_extension": ".py",
   "mimetype": "text/x-python",
   "name": "python",
   "nbconvert_exporter": "python",
   "pygments_lexer": "ipython3",
   "version": "3.7.6"
  }
 },
 "nbformat": 4,
 "nbformat_minor": 4
}
