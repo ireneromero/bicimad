{
 "cells": [
  {
   "cell_type": "code",
   "execution_count": 1,
   "metadata": {},
   "outputs": [],
   "source": [
    "import pandas as pd\n",
    "import matplotlib.pyplot as plt\n",
    "import numpy as np\n",
    "import seaborn as sns"
   ]
  },
  {
   "cell_type": "code",
   "execution_count": 72,
   "metadata": {},
   "outputs": [],
   "source": [
    "# relative paths\n",
    "PATH_BASES = '../../data/raw/bases_bicimad.csv'\n",
    "PATH_BIKES = '../../data/raw/bike_data.csv'\n",
    "df_bases = pd.read_csv(PATH_BASES, encoding = \"ISO-8859-1\", delimiter=';')\n",
    "df_bikes = pd.read_csv(PATH_BIKES, delimiter=',')"
   ]
  },
  {
   "cell_type": "code",
   "execution_count": 476,
   "metadata": {},
   "outputs": [],
   "source": [
    "df_bikes['idplug_base'] = df_bikes['idplug_base'].apply(str)\n",
    "df_bikes['idunplug_base'] = df_bikes['idunplug_base'].apply(str)\n",
    "df_bikes['idplug_station'] = df_bikes['idplug_station'].apply(str)\n",
    "df_bikes['idunplug_station'] = df_bikes['idunplug_station'].apply(str)\n",
    "df_bikes['user_type']   = df_bikes['user_type'].apply(str)\n",
    "df_bikes['ageRange']   = df_bikes['ageRange'].apply(str)\n",
    "df_bikes['datetime_unplug'] = pd.to_datetime(df_bikes['unplug_hourTime'])"
   ]
  },
  {
   "cell_type": "code",
   "execution_count": 4,
   "metadata": {},
   "outputs": [
    {
     "data": {
      "text/html": [
       "<div>\n",
       "<style scoped>\n",
       "    .dataframe tbody tr th:only-of-type {\n",
       "        vertical-align: middle;\n",
       "    }\n",
       "\n",
       "    .dataframe tbody tr th {\n",
       "        vertical-align: top;\n",
       "    }\n",
       "\n",
       "    .dataframe thead th {\n",
       "        text-align: right;\n",
       "    }\n",
       "</style>\n",
       "<table border=\"1\" class=\"dataframe\">\n",
       "  <thead>\n",
       "    <tr style=\"text-align: right;\">\n",
       "      <th></th>\n",
       "      <th>Número</th>\n",
       "      <th>Gis_X</th>\n",
       "      <th>Gis_Y</th>\n",
       "      <th>Fecha de Alta</th>\n",
       "      <th>Distrito</th>\n",
       "      <th>Barrio</th>\n",
       "      <th>Calle</th>\n",
       "      <th>Nº Finca</th>\n",
       "      <th>Tipo de Reserva</th>\n",
       "      <th>Número de Plazas</th>\n",
       "      <th>LONGITUD</th>\n",
       "      <th>LATITUD</th>\n",
       "      <th>DIRECCION</th>\n",
       "    </tr>\n",
       "  </thead>\n",
       "  <tbody>\n",
       "    <tr>\n",
       "      <th>0</th>\n",
       "      <td>001a</td>\n",
       "      <td>440394,55</td>\n",
       "      <td>4474280,53</td>\n",
       "      <td>41813</td>\n",
       "      <td>01  CENTRO</td>\n",
       "      <td>01-06 SOL</td>\n",
       "      <td>PUERTA DEL SOL, PLAZA, DE LA</td>\n",
       "      <td>1 B</td>\n",
       "      <td>BiciMAD</td>\n",
       "      <td>24</td>\n",
       "      <td>-3.702575</td>\n",
       "      <td>40.417016</td>\n",
       "      <td>PUERTA DEL SOL, PLAZA, DE LA,1 B</td>\n",
       "    </tr>\n",
       "    <tr>\n",
       "      <th>1</th>\n",
       "      <td>001b</td>\n",
       "      <td>440404,21</td>\n",
       "      <td>4474287,39</td>\n",
       "      <td>41813</td>\n",
       "      <td>01  CENTRO</td>\n",
       "      <td>01-06 SOL</td>\n",
       "      <td>ALCALA, CALLE, DE</td>\n",
       "      <td>1</td>\n",
       "      <td>BiciMAD</td>\n",
       "      <td>24</td>\n",
       "      <td>-3.702462</td>\n",
       "      <td>40.417078</td>\n",
       "      <td>ALCALA, CALLE, DE,1</td>\n",
       "    </tr>\n",
       "    <tr>\n",
       "      <th>2</th>\n",
       "      <td>2</td>\n",
       "      <td>440134,83</td>\n",
       "      <td>4474678,23</td>\n",
       "      <td>41813</td>\n",
       "      <td>01  CENTRO</td>\n",
       "      <td>01-05 UNIVERSIDAD</td>\n",
       "      <td>MIGUEL MOYA, CALLE, DE</td>\n",
       "      <td>1</td>\n",
       "      <td>BiciMAD</td>\n",
       "      <td>27</td>\n",
       "      <td>-3.705674</td>\n",
       "      <td>40.420580</td>\n",
       "      <td>MIGUEL MOYA, CALLE, DE,1</td>\n",
       "    </tr>\n",
       "    <tr>\n",
       "      <th>3</th>\n",
       "      <td>3</td>\n",
       "      <td>440012,98</td>\n",
       "      <td>4475760,68</td>\n",
       "      <td>41813</td>\n",
       "      <td>07  CHAMBERÍ</td>\n",
       "      <td>07-02 ARAPILES</td>\n",
       "      <td>CONDE DEL VALLE DE SUCHIL, PLAZA, DEL</td>\n",
       "      <td>2</td>\n",
       "      <td>BiciMAD</td>\n",
       "      <td>18</td>\n",
       "      <td>-3.707212</td>\n",
       "      <td>40.430322</td>\n",
       "      <td>CONDE DEL VALLE DE SUCHIL, PLAZA, DEL,2</td>\n",
       "    </tr>\n",
       "    <tr>\n",
       "      <th>4</th>\n",
       "      <td>4</td>\n",
       "      <td>440396,4</td>\n",
       "      <td>4475565,36</td>\n",
       "      <td>41813</td>\n",
       "      <td>01  CENTRO</td>\n",
       "      <td>01-05 UNIVERSIDAD</td>\n",
       "      <td>MANUELA MALASAÑA, CALLE, DE</td>\n",
       "      <td>3</td>\n",
       "      <td>BiciMAD</td>\n",
       "      <td>27</td>\n",
       "      <td>-3.702674</td>\n",
       "      <td>40.428591</td>\n",
       "      <td>MANUELA MALASAÑA, CALLE, DE,3</td>\n",
       "    </tr>\n",
       "  </tbody>\n",
       "</table>\n",
       "</div>"
      ],
      "text/plain": [
       "  Número      Gis_X       Gis_Y  Fecha de Alta      Distrito  \\\n",
       "0   001a  440394,55  4474280,53          41813    01  CENTRO   \n",
       "1   001b  440404,21  4474287,39          41813    01  CENTRO   \n",
       "2      2  440134,83  4474678,23          41813    01  CENTRO   \n",
       "3      3  440012,98  4475760,68          41813  07  CHAMBERÍ   \n",
       "4      4   440396,4  4475565,36          41813    01  CENTRO   \n",
       "\n",
       "              Barrio                                  Calle Nº Finca  \\\n",
       "0          01-06 SOL           PUERTA DEL SOL, PLAZA, DE LA      1 B   \n",
       "1          01-06 SOL                      ALCALA, CALLE, DE        1   \n",
       "2  01-05 UNIVERSIDAD                 MIGUEL MOYA, CALLE, DE        1   \n",
       "3     07-02 ARAPILES  CONDE DEL VALLE DE SUCHIL, PLAZA, DEL        2   \n",
       "4  01-05 UNIVERSIDAD            MANUELA MALASAÑA, CALLE, DE        3   \n",
       "\n",
       "  Tipo de Reserva  Número de Plazas  LONGITUD    LATITUD  \\\n",
       "0         BiciMAD                24 -3.702575  40.417016   \n",
       "1         BiciMAD                24 -3.702462  40.417078   \n",
       "2         BiciMAD                27 -3.705674  40.420580   \n",
       "3         BiciMAD                18 -3.707212  40.430322   \n",
       "4         BiciMAD                27 -3.702674  40.428591   \n",
       "\n",
       "                                 DIRECCION  \n",
       "0         PUERTA DEL SOL, PLAZA, DE LA,1 B  \n",
       "1                      ALCALA, CALLE, DE,1  \n",
       "2                 MIGUEL MOYA, CALLE, DE,1  \n",
       "3  CONDE DEL VALLE DE SUCHIL, PLAZA, DEL,2  \n",
       "4            MANUELA MALASAÑA, CALLE, DE,3  "
      ]
     },
     "execution_count": 4,
     "metadata": {},
     "output_type": "execute_result"
    }
   ],
   "source": [
    "df_bases.head()"
   ]
  },
  {
   "cell_type": "code",
   "execution_count": 5,
   "metadata": {},
   "outputs": [
    {
     "data": {
      "text/html": [
       "<div>\n",
       "<style scoped>\n",
       "    .dataframe tbody tr th:only-of-type {\n",
       "        vertical-align: middle;\n",
       "    }\n",
       "\n",
       "    .dataframe tbody tr th {\n",
       "        vertical-align: top;\n",
       "    }\n",
       "\n",
       "    .dataframe thead th {\n",
       "        text-align: right;\n",
       "    }\n",
       "</style>\n",
       "<table border=\"1\" class=\"dataframe\">\n",
       "  <thead>\n",
       "    <tr style=\"text-align: right;\">\n",
       "      <th></th>\n",
       "      <th>id</th>\n",
       "      <th>user_day_code</th>\n",
       "      <th>idplug_base</th>\n",
       "      <th>idunplug_base</th>\n",
       "      <th>idplug_station</th>\n",
       "      <th>idunplug_station</th>\n",
       "      <th>user_type</th>\n",
       "      <th>travel_time</th>\n",
       "      <th>ageRange</th>\n",
       "      <th>unplug_hourTime</th>\n",
       "      <th>zip_code</th>\n",
       "    </tr>\n",
       "  </thead>\n",
       "  <tbody>\n",
       "    <tr>\n",
       "      <th>0</th>\n",
       "      <td>5b9058462f38434ab0d85cd3</td>\n",
       "      <td>ead1db07fa526e19fe237115d5516fbdc5acb99057b885...</td>\n",
       "      <td>5</td>\n",
       "      <td>17</td>\n",
       "      <td>16</td>\n",
       "      <td>40</td>\n",
       "      <td>1</td>\n",
       "      <td>263</td>\n",
       "      <td>0</td>\n",
       "      <td>2018-09-01T01:00:00.000+0200</td>\n",
       "      <td>NaN</td>\n",
       "    </tr>\n",
       "    <tr>\n",
       "      <th>1</th>\n",
       "      <td>5b9058462f38434ab0d85ce9</td>\n",
       "      <td>420d9e220bd8816681162e15e9afcb1c69c5a756090728...</td>\n",
       "      <td>12</td>\n",
       "      <td>26</td>\n",
       "      <td>52</td>\n",
       "      <td>85</td>\n",
       "      <td>1</td>\n",
       "      <td>382</td>\n",
       "      <td>2</td>\n",
       "      <td>2018-09-01T01:00:00.000+0200</td>\n",
       "      <td>28009</td>\n",
       "    </tr>\n",
       "    <tr>\n",
       "      <th>2</th>\n",
       "      <td>5b9058462f38434ab0d85ced</td>\n",
       "      <td>780f5c8157efe8e6dca44dbd689817d4b126364fca917f...</td>\n",
       "      <td>1</td>\n",
       "      <td>11</td>\n",
       "      <td>58</td>\n",
       "      <td>109</td>\n",
       "      <td>1</td>\n",
       "      <td>305</td>\n",
       "      <td>4</td>\n",
       "      <td>2018-09-01T01:00:00.000+0200</td>\n",
       "      <td>28004</td>\n",
       "    </tr>\n",
       "    <tr>\n",
       "      <th>3</th>\n",
       "      <td>5b9058462f38434ab0d85cee</td>\n",
       "      <td>a225ab7b4b74954cd9fbe8cc2ec63390cd04e92cdd1a2f...</td>\n",
       "      <td>1</td>\n",
       "      <td>1</td>\n",
       "      <td>120</td>\n",
       "      <td>168</td>\n",
       "      <td>1</td>\n",
       "      <td>262</td>\n",
       "      <td>4</td>\n",
       "      <td>2018-09-01T01:00:00.000+0200</td>\n",
       "      <td>28015</td>\n",
       "    </tr>\n",
       "    <tr>\n",
       "      <th>4</th>\n",
       "      <td>5b9058462f38434ab0d85cef</td>\n",
       "      <td>867f38545733bc5f0c69d2592d228e01b3a39daa143e8b...</td>\n",
       "      <td>19</td>\n",
       "      <td>8</td>\n",
       "      <td>80</td>\n",
       "      <td>89</td>\n",
       "      <td>1</td>\n",
       "      <td>310</td>\n",
       "      <td>4</td>\n",
       "      <td>2018-09-01T01:00:00.000+0200</td>\n",
       "      <td>28007</td>\n",
       "    </tr>\n",
       "  </tbody>\n",
       "</table>\n",
       "</div>"
      ],
      "text/plain": [
       "                         id  \\\n",
       "0  5b9058462f38434ab0d85cd3   \n",
       "1  5b9058462f38434ab0d85ce9   \n",
       "2  5b9058462f38434ab0d85ced   \n",
       "3  5b9058462f38434ab0d85cee   \n",
       "4  5b9058462f38434ab0d85cef   \n",
       "\n",
       "                                       user_day_code idplug_base  \\\n",
       "0  ead1db07fa526e19fe237115d5516fbdc5acb99057b885...           5   \n",
       "1  420d9e220bd8816681162e15e9afcb1c69c5a756090728...          12   \n",
       "2  780f5c8157efe8e6dca44dbd689817d4b126364fca917f...           1   \n",
       "3  a225ab7b4b74954cd9fbe8cc2ec63390cd04e92cdd1a2f...           1   \n",
       "4  867f38545733bc5f0c69d2592d228e01b3a39daa143e8b...          19   \n",
       "\n",
       "  idunplug_base idplug_station idunplug_station user_type  travel_time  \\\n",
       "0            17             16               40         1          263   \n",
       "1            26             52               85         1          382   \n",
       "2            11             58              109         1          305   \n",
       "3             1            120              168         1          262   \n",
       "4             8             80               89         1          310   \n",
       "\n",
       "  ageRange               unplug_hourTime zip_code  \n",
       "0        0  2018-09-01T01:00:00.000+0200      NaN  \n",
       "1        2  2018-09-01T01:00:00.000+0200    28009  \n",
       "2        4  2018-09-01T01:00:00.000+0200    28004  \n",
       "3        4  2018-09-01T01:00:00.000+0200    28015  \n",
       "4        4  2018-09-01T01:00:00.000+0200    28007  "
      ]
     },
     "execution_count": 5,
     "metadata": {},
     "output_type": "execute_result"
    }
   ],
   "source": [
    "df_bikes.head()"
   ]
  },
  {
   "cell_type": "code",
   "execution_count": 192,
   "metadata": {},
   "outputs": [
    {
     "name": "stdout",
     "output_type": "stream",
     "text": [
      "Número de trayectos en el dataset: 398040\n"
     ]
    }
   ],
   "source": [
    "rides = df_bikes.shape[0]\n",
    "print(\"Número de trayectos en el dataset: {}\".format(rides))"
   ]
  },
  {
   "cell_type": "markdown",
   "metadata": {},
   "source": [
    "Tipo de los campos en los datasets"
   ]
  },
  {
   "cell_type": "code",
   "execution_count": 74,
   "metadata": {},
   "outputs": [
    {
     "data": {
      "text/plain": [
       "id                  object\n",
       "user_day_code       object\n",
       "idplug_base         object\n",
       "idunplug_base       object\n",
       "idplug_station      object\n",
       "idunplug_station    object\n",
       "user_type           object\n",
       "travel_time          int64\n",
       "ageRange            object\n",
       "unplug_hourTime     object\n",
       "zip_code            object\n",
       "dtype: object"
      ]
     },
     "execution_count": 74,
     "metadata": {},
     "output_type": "execute_result"
    }
   ],
   "source": [
    "df_bikes.dtypes"
   ]
  },
  {
   "cell_type": "code",
   "execution_count": 5,
   "metadata": {},
   "outputs": [
    {
     "data": {
      "text/plain": [
       "Número               object\n",
       "Gis_X                object\n",
       "Gis_Y                object\n",
       "Fecha de Alta         int64\n",
       "Distrito             object\n",
       "Barrio               object\n",
       "Calle                object\n",
       "Nº Finca             object\n",
       "Tipo de Reserva      object\n",
       "Número de Plazas      int64\n",
       "LONGITUD            float64\n",
       "LATITUD             float64\n",
       "DIRECCION            object\n",
       "dtype: object"
      ]
     },
     "execution_count": 5,
     "metadata": {},
     "output_type": "execute_result"
    }
   ],
   "source": [
    "df_bases.dtypes"
   ]
  },
  {
   "cell_type": "markdown",
   "metadata": {},
   "source": [
    "## Análisis, limpieza y transformación de campos"
   ]
  },
  {
   "cell_type": "markdown",
   "metadata": {},
   "source": [
    "### 1. Número de identificación de las bases"
   ]
  },
  {
   "cell_type": "markdown",
   "metadata": {},
   "source": [
    "#### 1.1 ¿Coinciden las bases que tenemos en df_bases con las que aparecen en df_bikes?"
   ]
  },
  {
   "cell_type": "code",
   "execution_count": 6,
   "metadata": {},
   "outputs": [
    {
     "name": "stdout",
     "output_type": "stream",
     "text": [
      "Bases presentes en el listado de bases (df_bases): [Total: 172, Listado: ['001a' '001b' '2' '3' '4' '5' '6' '7' '8' '9' '10' '11' '12' '13' '14'\n",
      " '15' '16' '17' '18' '19' '20' '020 ampliacion' '021a' '021b' '22' '23'\n",
      " '24' '025a' '025b' '26' '27' '28' '29' '30' '31' '32' '33' '34' '35' '36'\n",
      " '37' '38' '39' '40' '41' '42' '43' '44' '45' '46' '47' '48' '49' '50'\n",
      " '51' '52' '53' '54' '55' '56' '57' '58' '59' '60' '61' '62' '63' '65'\n",
      " '67' '68' '69' '70' '71' '72' '73' '74' '75' '76' '77' '78' '79' '080a'\n",
      " '080b' '81' '82' '83' '84' '85' '86' '87' '88' '89' '90' '91' '92' '93'\n",
      " '94' '95' '96' '97' '98' '99' '100' '101' '102' '103' '104' '105' '106'\n",
      " '107' '108' '109' '110' '111a' '111b' '112' '113' '114' '115' '116a'\n",
      " '116b' '117' '118' '119' '120' '121' '122' '123' '124' '125' '126' '127'\n",
      " '128' '129' '130' '131' '132' '133' '134' '135' '136' '137' '138' '139'\n",
      " '140' '141' '142' '143' '144' '145' '146' '147' '148' '149' '150' '151'\n",
      " '152' '153' '154' '155' '156' '157' '158' '159' '160' '161' '162' '163'\n",
      " '164' '165' '166' '167']]\n"
     ]
    }
   ],
   "source": [
    "unique_bases_1 = df_bases['Número'].unique()\n",
    "print(\"Bases presentes en el listado de bases (df_bases): [Total: {}, Listado: {}]\".format(len(unique_bases_1), unique_bases_1))"
   ]
  },
  {
   "cell_type": "code",
   "execution_count": 9,
   "metadata": {},
   "outputs": [
    {
     "name": "stdout",
     "output_type": "stream",
     "text": [
      "Bases en df_bikes[idplug_station] sin correspondencia en df_bases: ['1' '111' '116' '168' '169' '170' '171' '172' '173' '174' '175' '21' '25'\n",
      " '64' '66' '80']\n",
      "Bases en df_bikes[idunplug_station] sin correspondencia en df_bases: ['1' '111' '116' '168' '169' '170' '171' '172' '173' '174' '175' '21' '25'\n",
      " '64' '66' '80']\n"
     ]
    }
   ],
   "source": [
    "plug_station_not_found =  np.in1d(df_bikes['idplug_station'].unique(), unique_bases_1, assume_unique=True)\n",
    "print(\"Bases en df_bikes[idplug_station] sin correspondencia en df_bases: {}\".format(np.sort(df_bikes['idplug_station'].unique()[~plug_station_not_found])))\n",
    "unplug_station_not_found =  np.in1d(df_bikes['idunplug_station'].unique(), unique_bases_1, assume_unique=True)\n",
    "print(\"Bases en df_bikes[idunplug_station] sin correspondencia en df_bases: {}\".format(np.sort(df_bikes['idunplug_station'].unique()[~unplug_station_not_found])))"
   ]
  },
  {
   "cell_type": "markdown",
   "metadata": {},
   "source": [
    "Estas estaciones aparecen en el dataset df_bikes, pero no en el listado que se proporciona de las bases (dataset df_bases). Esto se debe a una de estas dos razones:\n",
    "- Estaciones que en el listado de bases no tienen identificador númerico, sino que aparecen dos estaciones con la misma numeración acompañadas de una letra, indicando así dos estaciones cercanas. Para estos casos, sustituiremos los valores en df_bikes (Número: XXX) por uno de los valores en presente en df_bases (Número: XXXa). \n",
    "- Estaciones que no tienen correspondencia de ningún tipo con las estaciones presentes en df_bases. Probablemente se deba a que la construcción del dataset generado de estaciones fue previo a la captura de datos de trayectos y no contiene algunas estaciones que ya aparecen en los trayectos. Para este análisis, por falta de tiempo, no tendremos en cuenta dichas estaciones. Otra opción sería acceder a los datos abiertos actuales del Ayuntamiento de Madrid para completar estas estaciones. "
   ]
  },
  {
   "cell_type": "markdown",
   "metadata": {},
   "source": [
    "#### 1.2 Limpieza de los campos 'idplug_station' y 'idunplug_station' en df_bikes"
   ]
  },
  {
   "cell_type": "code",
   "execution_count": 46,
   "metadata": {},
   "outputs": [],
   "source": [
    "bases_dict = {\n",
    "    '1': '001a',\n",
    "    '111': '111a',\n",
    "    '116': '116a',\n",
    "    '21': '021a',\n",
    "    '25': '025a',\n",
    "    '80': '080a'\n",
    "}\n",
    "\n",
    "def clean_bases(base):\n",
    "    return bases_dict.get(base, base)"
   ]
  },
  {
   "cell_type": "code",
   "execution_count": 47,
   "metadata": {},
   "outputs": [],
   "source": [
    "df_bikes['idplug_station'] = df_bikes['idplug_station'].map(clean_bases)\n",
    "df_bikes['idunplug_station'] = df_bikes['idunplug_station'].map(clean_bases)"
   ]
  },
  {
   "cell_type": "markdown",
   "metadata": {},
   "source": [
    "## 2. Duración de los trayectos:"
   ]
  },
  {
   "cell_type": "code",
   "execution_count": 148,
   "metadata": {},
   "outputs": [
    {
     "data": {
      "text/plain": [
       "count    398040.000000\n",
       "mean         17.730740\n",
       "std          60.266696\n",
       "min           0.016667\n",
       "25%           7.916667\n",
       "50%          11.983333\n",
       "75%          18.133333\n",
       "max       22443.050000\n",
       "Name: travel_time, dtype: float64"
      ]
     },
     "execution_count": 148,
     "metadata": {},
     "output_type": "execute_result"
    }
   ],
   "source": [
    "df_bikes['travel_time'] = df_bikes['travel_time']/60 # minutes\n",
    "df_bikes['travel_time'].describe()"
   ]
  },
  {
   "cell_type": "markdown",
   "metadata": {},
   "source": [
    "La desviación típica para la duración de los viajes es muy elevada, lo que indica presencia de valores extremos (el valor máximo de duración de un viaje son 22443 minutos, 15 días, por lo que probablemente sea un error, un robo o una labor de mantenimiento). Para usar esta variable, convendría realizar una transformación a una distribución logarítmica para anular el efecto de los valores extremos."
   ]
  },
  {
   "cell_type": "code",
   "execution_count": 155,
   "metadata": {},
   "outputs": [
    {
     "data": {
      "text/plain": [
       "<matplotlib.axes._subplots.AxesSubplot at 0x7fae00be4c70>"
      ]
     },
     "execution_count": 155,
     "metadata": {},
     "output_type": "execute_result"
    },
    {
     "data": {
      "image/png": "[encoded data removed]",
      "text/plain": [
       "<Figure size 432x288 with 1 Axes>"
      ]
     },
     "metadata": {
      "needs_background": "light"
     },
     "output_type": "display_data"
    }
   ],
   "source": [
    "df_bikes['travel_time'].hist(bins=10)"
   ]
  },
  {
   "cell_type": "markdown",
   "metadata": {},
   "source": [
    "En este gráfico apenas podemos apreciar la distribución, por la existencia de valores extremos. Al transformarlo a una distribución logarítima ya podemos observar los datos sin que estos valores extremos tengan tanto impacto:"
   ]
  },
  {
   "cell_type": "code",
   "execution_count": 149,
   "metadata": {},
   "outputs": [
    {
     "data": {
      "text/plain": [
       "<matplotlib.axes._subplots.AxesSubplot at 0x7fadfb01cfa0>"
      ]
     },
     "execution_count": 149,
     "metadata": {},
     "output_type": "execute_result"
    },
    {
     "data": {
      "image/png": "[encoded data removed]",
      "text/plain": [
       "<Figure size 432x288 with 1 Axes>"
      ]
     },
     "metadata": {
      "needs_background": "light"
     },
     "output_type": "display_data"
    }
   ],
   "source": [
    "np.log(df_bikes['travel_time']).hist(bins=100)"
   ]
  },
  {
   "cell_type": "markdown",
   "metadata": {},
   "source": [
    "#### 2.1. Detección de outliers en la duración de los trayectos"
   ]
  },
  {
   "cell_type": "code",
   "execution_count": 160,
   "metadata": {},
   "outputs": [
    {
     "data": {
      "text/plain": [
       "<matplotlib.axes._subplots.AxesSubplot at 0x7fadfb79be20>"
      ]
     },
     "execution_count": 160,
     "metadata": {},
     "output_type": "execute_result"
    },
    {
     "data": {
      "image/png": "[encoded data removed]",
      "text/plain": [
       "<Figure size 432x288 with 1 Axes>"
      ]
     },
     "metadata": {
      "needs_background": "light"
     },
     "output_type": "display_data"
    }
   ],
   "source": [
    "df_bikes.boxplot('travel_time')"
   ]
  },
  {
   "cell_type": "markdown",
   "metadata": {},
   "source": [
    "De nuevo, al existir valores tan extremos, no alcanzamos a ver los valores presentes en el rango intercuatílico (IQR). Gráfica sin valores outliers:"
   ]
  },
  {
   "cell_type": "code",
   "execution_count": 159,
   "metadata": {},
   "outputs": [
    {
     "data": {
      "text/plain": [
       "<matplotlib.axes._subplots.AxesSubplot at 0x7fadf43e1580>"
      ]
     },
     "execution_count": 159,
     "metadata": {},
     "output_type": "execute_result"
    },
    {
     "data": {
      "image/png": "[encoded data removed]",
      "text/plain": [
       "<Figure size 432x288 with 1 Axes>"
      ]
     },
     "metadata": {
      "needs_background": "light"
     },
     "output_type": "display_data"
    }
   ],
   "source": [
    "df_bikes.boxplot('travel_time', sym='') # plot without fliers, default whis=1.5"
   ]
  },
  {
   "cell_type": "markdown",
   "metadata": {},
   "source": [
    "Para eliminar o tratar los outliers, podemos emplear varios métodos. Uno de ellos es considerar los outliers como los valores que se encuentran fueran del rango [Q1 - 1.5IQR, Q3 + 1.5IQR]:\n",
    "- [TODO] Detectar outliers con otros métodos - DBSCAN,...\n"
   ]
  },
  {
   "cell_type": "code",
   "execution_count": 390,
   "metadata": {},
   "outputs": [
    {
     "name": "stdout",
     "output_type": "stream",
     "text": [
      "Lower limit: -7.4083333333333306\n",
      "Upper limit: 33.45833333333333\n",
      "% of outliers (values ouside of [Q1 - 1.5IQR, Q3 + 1.5IQR]: 8.513717214350317\n"
     ]
    }
   ],
   "source": [
    "Q1 = df_bikes['travel_time'].quantile(0.25)\n",
    "Q3 = df_bikes['travel_time'].quantile(0.75)\n",
    "IQR = Q3 - Q1\n",
    "lower_limit = Q1 - 1.5*IQR\n",
    "upper_limit = Q3 + 1.5*IQR\n",
    "print(\"Lower limit: {}\".format(lower_limit))\n",
    "print(\"Upper limit: {}\".format(upper_limit))\n",
    "print(\"% of outliers (values ouside of [Q1 - 1.5IQR, Q3 + 1.5IQR]: {}\".format(df_bikes[df_bikes['travel_time'] > upper_limit].shape[0]/df_bikes.shape[0]*100))"
   ]
  },
  {
   "cell_type": "markdown",
   "metadata": {},
   "source": [
    "Análisis de la duración de los trayectos sin tener en cuenta los outliers: \n",
    "- Podríamos filtrar el porcentaje de outliers ya que es asumible la pérdida de un 8.5% de información.\n",
    "- Para el límite superior podemos utilizar el que hemos calculado usando [Q3 + 1.5IQR] = 33.45 minutos. Sin embargo, como esta duración de trayecto es normal, vamos a filtrar por valores más extremos: 50 minutos (cuantil 0.95)\n",
    "- Para el límite inferior, no podemos utilizar el calculado usando [Q1 - 1.5IQR] porque es inferior a cero (lo que no tiene sentido para la variable que nos ocupa). Para fijar este límite utilizaremos un valor elegido manualmente de 4.1 minutos (cuantil 0.05).\n",
    "- Filtrando la información entre estos dos cuantiles, estamos perdiendo alrededor del 10% de información. "
   ]
  },
  {
   "cell_type": "code",
   "execution_count": 391,
   "metadata": {},
   "outputs": [
    {
     "name": "stdout",
     "output_type": "stream",
     "text": [
      "% de valores anómalos (filtrados): 10.00502462064114\n"
     ]
    }
   ],
   "source": [
    "lower_limit = df_bikes['travel_time'].quantile(0.05)\n",
    "upper_limit = df_bikes['travel_time'].quantile(0.95)\n",
    "print(\"% de valores anómalos (filtrados): {}\".format(100*(rides - df_bikes_normal_travel_time.shape[0])/rides))"
   ]
  },
  {
   "cell_type": "code",
   "execution_count": 477,
   "metadata": {},
   "outputs": [],
   "source": [
    "df_bikes_normal_travel_time = df_bikes[(df_bikes['travel_time'] < upper_limit) & (df_bikes['travel_time'] > lower_limit)]"
   ]
  },
  {
   "cell_type": "code",
   "execution_count": 479,
   "metadata": {},
   "outputs": [
    {
     "data": {
      "text/plain": [
       "count    358216.000000\n",
       "mean         14.049544\n",
       "std           8.146763\n",
       "min           4.116667\n",
       "25%           8.300000\n",
       "50%          11.983333\n",
       "75%          17.250000\n",
       "max          49.250000\n",
       "Name: travel_time, dtype: float64"
      ]
     },
     "execution_count": 479,
     "metadata": {},
     "output_type": "execute_result"
    }
   ],
   "source": [
    "df_bikes_normal_travel_time['travel_time'].describe()"
   ]
  },
  {
   "cell_type": "markdown",
   "metadata": {},
   "source": [
    "La media de los trayectos se encuentra alrededor de los 14 minutos. Un ejemplo en Madrid de un trayecto correspondiente a 14 minutos en bici es un trayecto entre Plaza de España y Plaza de Emilio Castelar, que supone alrededor de 34 minutos andando. Este sería un trayecto estándar que realizarían los usuarios de bicimad."
   ]
  },
  {
   "cell_type": "markdown",
   "metadata": {},
   "source": [
    "### 2.2 Análisis outliers inferiores"
   ]
  },
  {
   "cell_type": "markdown",
   "metadata": {},
   "source": [
    "Hemos eliminado los tryaectos cuya duración se encuentra por debajo de los 4.1 minutos. Esto podrían ser en su mayoría bicis que estaban defectuosas y el usuario ha tenido que devolver casi inmediatamente. Analicemos en cuántos de estos trayectos la estación de desenganche y devolución es la misma:"
   ]
  },
  {
   "cell_type": "code",
   "execution_count": 235,
   "metadata": {},
   "outputs": [],
   "source": [
    "df_bikes_shortest_travel_time = df_bikes[df_bikes['travel_time'] < lower_limit]"
   ]
  },
  {
   "cell_type": "code",
   "execution_count": 196,
   "metadata": {},
   "outputs": [
    {
     "name": "stdout",
     "output_type": "stream",
     "text": [
      "Número de trayectos de duración inferior a 4.1 minutos: 19700 (4.9492513315244695 % del total)\n"
     ]
    }
   ],
   "source": [
    "print(\"Número de trayectos de duración inferior a 4.1 minutos: {} ({} % del total)\".format(df_bikes_low_travel_time.shape[0], 100*df_bikes_low_travel_time.shape[0]/rides))"
   ]
  },
  {
   "cell_type": "markdown",
   "metadata": {},
   "source": [
    "De estos trayectos, ¿cuántas bicis fueron devueltas (prácticamente inmediatamente) a la misma estación en la que se desengancharon?"
   ]
  },
  {
   "cell_type": "code",
   "execution_count": 215,
   "metadata": {},
   "outputs": [
    {
     "data": {
      "text/plain": [
       "0.3734447539461468"
      ]
     },
     "execution_count": 215,
     "metadata": {},
     "output_type": "execute_result"
    }
   ],
   "source": [
    "df_bikes_shortest_travel_time[df_bikes_low_travel_time['idplug_station'] == df_bikes_shortest_travel_time['idunplug_station']]['travel_time'].describe()['mean']"
   ]
  },
  {
   "cell_type": "code",
   "execution_count": 236,
   "metadata": {},
   "outputs": [
    {
     "name": "stdout",
     "output_type": "stream",
     "text": [
      "Número de usuarios que devolvieron la bici en la misma estación que la desengancharon: 3949, resultando en una duración de trayecto muy baja: 0.3734447539461468 minutos (de media)\n"
     ]
    }
   ],
   "source": [
    "print(\"Número de usuarios que devolvieron la bici en la misma estación que la desengancharon: {}, resultando en una duración de trayecto muy baja: {} minutos (de media)\".format(  \n",
    "    df_bikes_shortest_travel_time[df_bikes_shortest_travel_time['idplug_station'] == df_bikes_shortest_travel_time['idunplug_station']].shape[0],\n",
    "     df_bikes_shortest_travel_time[df_bikes_shortest_travel_time['idplug_station'] == df_bikes_shortest_travel_time['idunplug_station']]['travel_time'].describe()['mean']))"
   ]
  },
  {
   "cell_type": "markdown",
   "metadata": {},
   "source": [
    "Alrededor de 4000 usuarios sufrieron la situación de desenganchar una bici defectuosa y tener que devolverla inmediatamente (medio minuto) en la misma estación. \n",
    "La política de BiciMad antes averías es la siguiente (según su página web):\n",
    "_\"Deberé volver a anclar la bicicleta en la misma estación antes de cinco minutos y comunicarlo a través de cualquiera de los siguientes canales: totém de la estación, en el teléfono 900 50 54 63 o en la aplicación para móvil BiciMAD.\"_\n",
    "Suponiendo que los usuarios en esta situación llamasen para comunicar dicha avería, esto resultaría en una pérdida de 3949 trayectos * 0.5€ trayecto (mínimo de media hora) = 1974.5 €. Probablemente, un gran porcentaje de usuarios no realice dicha gestión, por lo que las pérdidas económicas no serían el aspecto importante de esta situación sino la pérdida de reputación de marca BiciMad para con el usuario. "
   ]
  },
  {
   "cell_type": "code",
   "execution_count": 237,
   "metadata": {},
   "outputs": [
    {
     "data": {
      "text/plain": [
       "user_type\n",
       "3    3949\n",
       "dtype: int64"
      ]
     },
     "execution_count": 237,
     "metadata": {},
     "output_type": "execute_result"
    }
   ],
   "source": [
    "df_bikes_shortest_travel_time[df_bikes_shortest_travel_time['idplug_station'] == df_bikes_shortest_travel_time['idunplug_station']].groupby('user_type').size()"
   ]
  },
  {
   "cell_type": "markdown",
   "metadata": {},
   "source": [
    "Sin embargo, al estudiar qué usuarios han sufrido esta problemática, nos encontramos con que todos estos viajes están asignados al tipo de usuario 3 (trabajador de la empresa). \n",
    "No tiene sentido que no exista ningún trayecto con esta problemática para usuarios de tipo 0, 1 y 2. Una posible explicación es que el sistema, al ser notificado de estas bicis defectuosas, asigne el tipo de usuario 3 para no realizar el cobro al usuario final. "
   ]
  },
  {
   "cell_type": "markdown",
   "metadata": {},
   "source": [
    "### 2.2 Análisis outliers superiores"
   ]
  },
  {
   "cell_type": "code",
   "execution_count": 238,
   "metadata": {},
   "outputs": [],
   "source": [
    "df_bikes_longest_travel_time = df_bikes[df_bikes['travel_time'] > upper_limit]"
   ]
  },
  {
   "cell_type": "markdown",
   "metadata": {},
   "source": [
    "Análisis por tipo de usuario:"
   ]
  },
  {
   "cell_type": "code",
   "execution_count": 239,
   "metadata": {},
   "outputs": [
    {
     "data": {
      "text/plain": [
       "user_type\n",
       "0      580\n",
       "1    19794\n",
       "2     2341\n",
       "3    11173\n",
       "dtype: int64"
      ]
     },
     "execution_count": 239,
     "metadata": {},
     "output_type": "execute_result"
    }
   ],
   "source": [
    "df_bikes_longest_travel_time.groupby('user_type').size()"
   ]
  },
  {
   "cell_type": "markdown",
   "metadata": {},
   "source": [
    "Muchos de estos trayectos corresponden al tipo de usuario 3 (trabajador de la empresa), por lo que podrían ser bicicletas bajo mantenimiento. En cuanto al resto de usuarios, analicemos cómo de largos son estos viajes:"
   ]
  },
  {
   "cell_type": "code",
   "execution_count": 251,
   "metadata": {},
   "outputs": [
    {
     "data": {
      "text/plain": [
       "Text(0.5, 1.0, 'Usuario ocasional')"
      ]
     },
     "execution_count": 251,
     "metadata": {},
     "output_type": "execute_result"
    },
    {
     "data": {
      "image/png": "[encoded data removed]",
      "text/plain": [
       "<Figure size 1440x504 with 3 Axes>"
      ]
     },
     "metadata": {
      "needs_background": "light"
     },
     "output_type": "display_data"
    }
   ],
   "source": [
    "f, axes = plt.subplots(3, 1, figsize=(20,7), sharex=True)\n",
    "sns.distplot(df_bikes_longest_travel_time[df_bikes_longest_travel_time['user_type'] == '0']['travel_time'], ax = axes[0])\n",
    "axes[0].label_outer()\n",
    "axes[0].set_title('Usuario sin tipo determinado')\n",
    "sns.distplot(df_bikes_longest_travel_time[df_bikes_longest_travel_time['user_type'] == '1']['travel_time'], ax = axes[1])\n",
    "axes[1].label_outer()\n",
    "axes[1].set_title('Usuario poseedor de pase anual')\n",
    "sns.distplot(df_bikes_longest_travel_time[df_bikes_longest_travel_time['user_type'] == '2']['travel_time'], ax = axes[2])\n",
    "axes[2].set_title('Usuario ocasional')\n"
   ]
  },
  {
   "cell_type": "markdown",
   "metadata": {},
   "source": [
    "Para el usuario indeterminado se puede observar que la distribución de la duración de estos trayectos es intermedia al usuario poseedor de pase anual y usuario ocasional (engloba a ambos tipos de usuario). \n",
    "La distribución de la duración de trayectos para el usuario ocasional es considerablemente diferente al del usuario poseedor de bono. Probablemente se deba a que estos usuarios son turistas y utilizan el servicio BiciMad como medio de transporte para una visita turística por la ciudad. "
   ]
  },
  {
   "cell_type": "markdown",
   "metadata": {},
   "source": [
    "Veamos cuáles son las estaciones más utilizadas para estos usuarios (tipo 2, ocasional) en estos trayectos largos:"
   ]
  },
  {
   "cell_type": "code",
   "execution_count": 252,
   "metadata": {},
   "outputs": [],
   "source": [
    "df_bikes_longest_travel_time_tourists = df_bikes_longest_travel_time[df_bikes_longest_travel_time['user_type'] == '2']"
   ]
  },
  {
   "cell_type": "code",
   "execution_count": 273,
   "metadata": {},
   "outputs": [
    {
     "data": {
      "text/html": [
       "<div>\n",
       "<style scoped>\n",
       "    .dataframe tbody tr th:only-of-type {\n",
       "        vertical-align: middle;\n",
       "    }\n",
       "\n",
       "    .dataframe tbody tr th {\n",
       "        vertical-align: top;\n",
       "    }\n",
       "\n",
       "    .dataframe thead th {\n",
       "        text-align: right;\n",
       "    }\n",
       "</style>\n",
       "<table border=\"1\" class=\"dataframe\">\n",
       "  <thead>\n",
       "    <tr style=\"text-align: right;\">\n",
       "      <th></th>\n",
       "      <th>idunplug_station</th>\n",
       "      <th>rides_per_station</th>\n",
       "      <th>Número</th>\n",
       "      <th>Barrio</th>\n",
       "      <th>DIRECCION</th>\n",
       "    </tr>\n",
       "  </thead>\n",
       "  <tbody>\n",
       "    <tr>\n",
       "      <th>0</th>\n",
       "      <td>135</td>\n",
       "      <td>79</td>\n",
       "      <td>135</td>\n",
       "      <td>07-05 RÍOS ROSAS</td>\n",
       "      <td>SAN JUAN DE LA CRUZ, PLAZA, DE,S/N</td>\n",
       "    </tr>\n",
       "    <tr>\n",
       "      <th>1</th>\n",
       "      <td>73</td>\n",
       "      <td>72</td>\n",
       "      <td>73</td>\n",
       "      <td>03-03 ESTRELLA</td>\n",
       "      <td>ASTROS, PLAZA, DE LOS,S/N</td>\n",
       "    </tr>\n",
       "    <tr>\n",
       "      <th>2</th>\n",
       "      <td>132</td>\n",
       "      <td>62</td>\n",
       "      <td>132</td>\n",
       "      <td>07-05 RÍOS ROSAS</td>\n",
       "      <td>SANTA ENGRACIA, CALLE, DE,168</td>\n",
       "    </tr>\n",
       "    <tr>\n",
       "      <th>3</th>\n",
       "      <td>54</td>\n",
       "      <td>58</td>\n",
       "      <td>54</td>\n",
       "      <td>01-04 JUSTICIA</td>\n",
       "      <td>BARCELO, CALLE, DE,7</td>\n",
       "    </tr>\n",
       "    <tr>\n",
       "      <th>4</th>\n",
       "      <td>10</td>\n",
       "      <td>51</td>\n",
       "      <td>10</td>\n",
       "      <td>01-04 JUSTICIA</td>\n",
       "      <td>MARQUES DE LA ENSENADA, CALLE, DEL,16</td>\n",
       "    </tr>\n",
       "    <tr>\n",
       "      <th>5</th>\n",
       "      <td>56</td>\n",
       "      <td>46</td>\n",
       "      <td>56</td>\n",
       "      <td>01-06 SOL</td>\n",
       "      <td>CARMEN, PLAZA, DEL,1</td>\n",
       "    </tr>\n",
       "    <tr>\n",
       "      <th>6</th>\n",
       "      <td>26</td>\n",
       "      <td>39</td>\n",
       "      <td>26</td>\n",
       "      <td>01-04 JUSTICIA</td>\n",
       "      <td>SALESAS, PLAZA, DE LAS,8</td>\n",
       "    </tr>\n",
       "    <tr>\n",
       "      <th>7</th>\n",
       "      <td>34</td>\n",
       "      <td>38</td>\n",
       "      <td>34</td>\n",
       "      <td>01-03 CORTES</td>\n",
       "      <td>JACINTO BENAVENTE, PLAZA, DE,S/N</td>\n",
       "    </tr>\n",
       "    <tr>\n",
       "      <th>8</th>\n",
       "      <td>2</td>\n",
       "      <td>37</td>\n",
       "      <td>2</td>\n",
       "      <td>01-05 UNIVERSIDAD</td>\n",
       "      <td>MIGUEL MOYA, CALLE, DE,1</td>\n",
       "    </tr>\n",
       "    <tr>\n",
       "      <th>9</th>\n",
       "      <td>69</td>\n",
       "      <td>33</td>\n",
       "      <td>69</td>\n",
       "      <td>03-05 JERÓNIMOS</td>\n",
       "      <td>ALFONSO XII, CALLE, DE,54</td>\n",
       "    </tr>\n",
       "    <tr>\n",
       "      <th>10</th>\n",
       "      <td>35</td>\n",
       "      <td>32</td>\n",
       "      <td>35</td>\n",
       "      <td>01-01 PALACIO</td>\n",
       "      <td>CORDON, CALLE, DEL,4</td>\n",
       "    </tr>\n",
       "    <tr>\n",
       "      <th>11</th>\n",
       "      <td>71</td>\n",
       "      <td>31</td>\n",
       "      <td>71</td>\n",
       "      <td>03-06 NIÑO JESÚS</td>\n",
       "      <td>DOCE DE OCTUBRE, CALLE, DEL,28</td>\n",
       "    </tr>\n",
       "  </tbody>\n",
       "</table>\n",
       "</div>"
      ],
      "text/plain": [
       "   idunplug_station  rides_per_station Número             Barrio  \\\n",
       "0               135                 79    135   07-05 RÍOS ROSAS   \n",
       "1                73                 72     73     03-03 ESTRELLA   \n",
       "2               132                 62    132   07-05 RÍOS ROSAS   \n",
       "3                54                 58     54     01-04 JUSTICIA   \n",
       "4                10                 51     10     01-04 JUSTICIA   \n",
       "5                56                 46     56          01-06 SOL   \n",
       "6                26                 39     26     01-04 JUSTICIA   \n",
       "7                34                 38     34       01-03 CORTES   \n",
       "8                 2                 37      2  01-05 UNIVERSIDAD   \n",
       "9                69                 33     69    03-05 JERÓNIMOS   \n",
       "10               35                 32     35      01-01 PALACIO   \n",
       "11               71                 31     71   03-06 NIÑO JESÚS   \n",
       "\n",
       "                                DIRECCION  \n",
       "0      SAN JUAN DE LA CRUZ, PLAZA, DE,S/N  \n",
       "1               ASTROS, PLAZA, DE LOS,S/N  \n",
       "2           SANTA ENGRACIA, CALLE, DE,168  \n",
       "3                    BARCELO, CALLE, DE,7  \n",
       "4   MARQUES DE LA ENSENADA, CALLE, DEL,16  \n",
       "5                    CARMEN, PLAZA, DEL,1  \n",
       "6                SALESAS, PLAZA, DE LAS,8  \n",
       "7        JACINTO BENAVENTE, PLAZA, DE,S/N  \n",
       "8                MIGUEL MOYA, CALLE, DE,1  \n",
       "9               ALFONSO XII, CALLE, DE,54  \n",
       "10                   CORDON, CALLE, DEL,4  \n",
       "11         DOCE DE OCTUBRE, CALLE, DEL,28  "
      ]
     },
     "execution_count": 273,
     "metadata": {},
     "output_type": "execute_result"
    }
   ],
   "source": [
    "# Top 15 estaciones en las que estos supuestos turistas desengancharon las bicicletas\n",
    "df_bikes_longest_travel_time_tourists.groupby('idunplug_station').size().reset_index(name = 'rides_per_station').sort_values(by='rides_per_station', ascending=False).head(15).merge(df_bases[['Número', 'Barrio', 'DIRECCION']], left_on='idunplug_station', right_on='Número')"
   ]
  },
  {
   "cell_type": "code",
   "execution_count": 275,
   "metadata": {},
   "outputs": [
    {
     "data": {
      "text/html": [
       "<div>\n",
       "<style scoped>\n",
       "    .dataframe tbody tr th:only-of-type {\n",
       "        vertical-align: middle;\n",
       "    }\n",
       "\n",
       "    .dataframe tbody tr th {\n",
       "        vertical-align: top;\n",
       "    }\n",
       "\n",
       "    .dataframe thead th {\n",
       "        text-align: right;\n",
       "    }\n",
       "</style>\n",
       "<table border=\"1\" class=\"dataframe\">\n",
       "  <thead>\n",
       "    <tr style=\"text-align: right;\">\n",
       "      <th></th>\n",
       "      <th>idplug_station</th>\n",
       "      <th>rides_per_station</th>\n",
       "      <th>Número</th>\n",
       "      <th>Barrio</th>\n",
       "      <th>DIRECCION</th>\n",
       "    </tr>\n",
       "  </thead>\n",
       "  <tbody>\n",
       "    <tr>\n",
       "      <th>0</th>\n",
       "      <td>135</td>\n",
       "      <td>97</td>\n",
       "      <td>135</td>\n",
       "      <td>07-05 RÍOS ROSAS</td>\n",
       "      <td>SAN JUAN DE LA CRUZ, PLAZA, DE,S/N</td>\n",
       "    </tr>\n",
       "    <tr>\n",
       "      <th>1</th>\n",
       "      <td>132</td>\n",
       "      <td>72</td>\n",
       "      <td>132</td>\n",
       "      <td>07-05 RÍOS ROSAS</td>\n",
       "      <td>SANTA ENGRACIA, CALLE, DE,168</td>\n",
       "    </tr>\n",
       "    <tr>\n",
       "      <th>2</th>\n",
       "      <td>86</td>\n",
       "      <td>63</td>\n",
       "      <td>86</td>\n",
       "      <td>01-03 CORTES</td>\n",
       "      <td>PRADO, PASEO, DEL,S/N</td>\n",
       "    </tr>\n",
       "    <tr>\n",
       "      <th>3</th>\n",
       "      <td>73</td>\n",
       "      <td>53</td>\n",
       "      <td>73</td>\n",
       "      <td>03-03 ESTRELLA</td>\n",
       "      <td>ASTROS, PLAZA, DE LOS,S/N</td>\n",
       "    </tr>\n",
       "    <tr>\n",
       "      <th>4</th>\n",
       "      <td>56</td>\n",
       "      <td>44</td>\n",
       "      <td>56</td>\n",
       "      <td>01-06 SOL</td>\n",
       "      <td>CARMEN, PLAZA, DEL,1</td>\n",
       "    </tr>\n",
       "    <tr>\n",
       "      <th>5</th>\n",
       "      <td>90</td>\n",
       "      <td>42</td>\n",
       "      <td>90</td>\n",
       "      <td>04-01 RECOLETOS</td>\n",
       "      <td>GOYA, CALLE, DE,18</td>\n",
       "    </tr>\n",
       "    <tr>\n",
       "      <th>6</th>\n",
       "      <td>26</td>\n",
       "      <td>39</td>\n",
       "      <td>26</td>\n",
       "      <td>01-04 JUSTICIA</td>\n",
       "      <td>SALESAS, PLAZA, DE LAS,8</td>\n",
       "    </tr>\n",
       "    <tr>\n",
       "      <th>7</th>\n",
       "      <td>10</td>\n",
       "      <td>37</td>\n",
       "      <td>10</td>\n",
       "      <td>01-04 JUSTICIA</td>\n",
       "      <td>MARQUES DE LA ENSENADA, CALLE, DEL,16</td>\n",
       "    </tr>\n",
       "    <tr>\n",
       "      <th>8</th>\n",
       "      <td>122</td>\n",
       "      <td>37</td>\n",
       "      <td>122</td>\n",
       "      <td>07-04 ALMAGRO</td>\n",
       "      <td>SANTA ENGRACIA, CALLE, DE,16</td>\n",
       "    </tr>\n",
       "    <tr>\n",
       "      <th>9</th>\n",
       "      <td>40</td>\n",
       "      <td>32</td>\n",
       "      <td>40</td>\n",
       "      <td>01-02 EMBAJADORES</td>\n",
       "      <td>CONDE DE ROMANONES, CALLE, DEL,2</td>\n",
       "    </tr>\n",
       "    <tr>\n",
       "      <th>10</th>\n",
       "      <td>38</td>\n",
       "      <td>29</td>\n",
       "      <td>38</td>\n",
       "      <td>01-01 PALACIO</td>\n",
       "      <td>SAN FRANCISCO, CARRERA, DE,1</td>\n",
       "    </tr>\n",
       "  </tbody>\n",
       "</table>\n",
       "</div>"
      ],
      "text/plain": [
       "   idplug_station  rides_per_station Número             Barrio  \\\n",
       "0             135                 97    135   07-05 RÍOS ROSAS   \n",
       "1             132                 72    132   07-05 RÍOS ROSAS   \n",
       "2              86                 63     86       01-03 CORTES   \n",
       "3              73                 53     73     03-03 ESTRELLA   \n",
       "4              56                 44     56          01-06 SOL   \n",
       "5              90                 42     90    04-01 RECOLETOS   \n",
       "6              26                 39     26     01-04 JUSTICIA   \n",
       "7              10                 37     10     01-04 JUSTICIA   \n",
       "8             122                 37    122      07-04 ALMAGRO   \n",
       "9              40                 32     40  01-02 EMBAJADORES   \n",
       "10             38                 29     38      01-01 PALACIO   \n",
       "\n",
       "                                DIRECCION  \n",
       "0      SAN JUAN DE LA CRUZ, PLAZA, DE,S/N  \n",
       "1           SANTA ENGRACIA, CALLE, DE,168  \n",
       "2                   PRADO, PASEO, DEL,S/N  \n",
       "3               ASTROS, PLAZA, DE LOS,S/N  \n",
       "4                    CARMEN, PLAZA, DEL,1  \n",
       "5                      GOYA, CALLE, DE,18  \n",
       "6                SALESAS, PLAZA, DE LAS,8  \n",
       "7   MARQUES DE LA ENSENADA, CALLE, DEL,16  \n",
       "8            SANTA ENGRACIA, CALLE, DE,16  \n",
       "9        CONDE DE ROMANONES, CALLE, DEL,2  \n",
       "10           SAN FRANCISCO, CARRERA, DE,1  "
      ]
     },
     "execution_count": 275,
     "metadata": {},
     "output_type": "execute_result"
    }
   ],
   "source": [
    "# Top 15 estaciones en las que estos supuestos turistas devolvieron las bicicletas\n",
    "df_bikes_longest_travel_time_tourists.groupby('idplug_station').size().reset_index(name = 'rides_per_station').sort_values(by='rides_per_station', ascending=False).head(15).merge(df_bases[['Número', 'Barrio', 'DIRECCION']], left_on='idplug_station', right_on='Número')"
   ]
  },
  {
   "cell_type": "markdown",
   "metadata": {},
   "source": [
    "## 3. Sobre los usuarios:"
   ]
  },
  {
   "cell_type": "markdown",
   "metadata": {},
   "source": [
    "### 3.1 Variables sociodemográficas: Código postal"
   ]
  },
  {
   "cell_type": "code",
   "execution_count": 75,
   "metadata": {},
   "outputs": [
    {
     "data": {
      "text/plain": [
       "array([nan, '28009', '28004', '28015', '28007', '28021', '28005', '28028',\n",
       "       '28010', '28012', '28001', '28045', '28013', '28053', '28016',\n",
       "       '28011', '28014', '28002', '28033', '28909', '28008', '28003',\n",
       "       '28035', '28036', '28006', '28030', '28046', '28041', '28511',\n",
       "       '28523', '28020', '28240', '28924', '28019', '11007', '28039',\n",
       "       '28232', '28925', '28025', '28042', '28109', '28023', '28280',\n",
       "       '28029', '28022', '28260', '28044', '11500', '28935', '29801',\n",
       "       '28807', '28027', '28224', '28040', '28032', '28031', '28945',\n",
       "       '28231', '28700', '28120', '28752', '28043', '28018', '28026',\n",
       "       '48092', '28050', '28034', '28500', '28400', '28411', '28100',\n",
       "       '28821', '28460', '28038', '28047', '28850', '28017', '28942',\n",
       "       '28760', '28670', '28064', '11130', '48940', '28805', '28941',\n",
       "       '28223', '28981', '2008', '28934', '28037', '29040', '03680',\n",
       "       '37006', '28270', '24002', '28806', '28220', '26006', '45600',\n",
       "       '28901', '28691', '28937', '28024', '08914', '28055', '02004',\n",
       "       '28905', '28861', '28049', '29009', '28692', '28521', '28913',\n",
       "       '28917', '28701', '31001', 'CODIGO_POSTAL_NOT_DEF', '28986',\n",
       "       '41940', '33009', '28522', '20004', '20810', '28007 ', '28108',\n",
       "       '28938', '46021', '20280', '45519', '28110', '33394', '28660',\n",
       "       '28004 ', '28822', '28830', '28939', '23038', '40005', '19170',\n",
       "       '28290', '28000', '28911', '69003', '29014', '28791', '28902',\n",
       "       '18100', '28703', '28160', '45450', '28054', '28450', '28840',\n",
       "       '40442', '45007', '28229', '28048', '28903', '28823', '6301',\n",
       "       '28210', '07110', '28923', '29045', '28912', '28860', '28982',\n",
       "       '28915', '28922', '49100', '28250', '28980', '28540', '28292',\n",
       "       '06800', '28490', '01015', '28051', 'maxima87uk', '11207', '40003',\n",
       "       '28918', '33209', '28723', '28140', '28', '28943', '28921',\n",
       "       '28080', '28702', '47100', '20043', '28815', '28933', '3500',\n",
       "       '286911', '20886', '28801', '45590', '39724', '28440', '28412',\n",
       "       '36212', '28680', '24401', '46009', '12345', '13679', '45161',\n",
       "       '28200', '28904', '20007', '28936', '13170', '45004', '45005',\n",
       "       '39100', '18006', '41012', '28600', '28919', '4504', '13610',\n",
       "       '33207', '26016', '45003', '646441026', '28770', '28609', '28343',\n",
       "       '48901', '13005', '28510', '23009', '28300', '20018', '28931',\n",
       "       '000000', '28241', '24048', '28341', '15404', '11010', '28512',\n",
       "       '40424', '48930', '31160', '28816', '19002', '06700', '10800',\n",
       "       '28420', '28900', '28932', '28978', '45223', '23485', '07010',\n",
       "       '35002', '28707', '39002', '28214', '25045', '40194', '30800',\n",
       "       '46016', '47002', '2845', '29005', '28221', '28230', '37005',\n",
       "       '48013', '28211', ' ', '40171', '40002', '33423', '28342', '46220',\n",
       "       '28299', '40004', '25018', '13004', '080028', '08030', '25005',\n",
       "       '45960', '28803', '29130', '28916', '40151', '38205', '45860',\n",
       "       '13500', '28410', '20005', '00188', '41013', '18110', '07012',\n",
       "       '28015 ', '28320', '28804', '28802', '20110', '20012', '28984',\n",
       "       '28944', '28350', '39001', '28340', '13250', '2803', '23300',\n",
       "       '08197', '48007', '280151', '20839', '01005', '42200', '07180',\n",
       "       '28907', '40400', '28222', '28690', '45870', '48014', '28430',\n",
       "       '46100', '45780', '28970', '19200', '05230', '28104', '28607',\n",
       "       '06220', '28906', '29007', '28370', '16003', '46005', '75007',\n",
       "       '2007', '15006', '25720', '11403', '08760', '28330', '29008',\n",
       "       '28792', '35026', '28590', '19802', '28729', '00000', ' 2800',\n",
       "       '30001', '33590', '28470', '28983', '28891', '36639', '03360',\n",
       "       '28669', '01710', '28971', '20600', '11004', '02088', '50001',\n",
       "       '29039', '34210', '28180', '28081', '28025 ', '40001', '45220',\n",
       "       '45280', '28360', '28530', '28296', '28721', '28914', '15706',\n",
       "       '28708', '45400', '36300', '28028 ', '16410', '62973', '47003',\n",
       "       '28105', '28248', '88408', '2', '10810', '20240', '24540', '28225',\n",
       "       '38049', 'nataliamoncastillo@gmail.com', '28189', '07157', '03580',\n",
       "       '45910', '22004', '03600', '28099912', '41011', '46400', '02001',\n",
       "       'sperez@nova.es', '09400', '38010', '45111', '28150', '00135',\n",
       "       '26002', '28880', '28810', '39012', '04720', '28863', '13600',\n",
       "       '15896', '28380', '37007', 'aroncs830@gmail.com', '28750', '34005',\n",
       "       '28722', '30002', '39316', '41003', '29033', '28099', '03005',\n",
       "       '2800', '03440', '50630', '14003', '05005', '50011', '02651',\n",
       "       '14005', '08201', '10004', '24012', 'fgu@ie.edu', '33206', '08036',\n",
       "       '28550', '38631', '33160', '28580', '08002', '46399', '28092',\n",
       "       '36201', '47015', '28710', '36600', '30430', '03002', '24007',\n",
       "       '22003', '29055', '13002', '08225', '32550', '50018', '12028',\n",
       "       '28890', '29004', '45250', '19171', '19003', '37001', '36800',\n",
       "       '08027', '22221', '25012', '28514', '07003', '28955', '36001',\n",
       "       '13003', '15110', '01647', '19197', '09443', '83616', '0200',\n",
       "       '48009', '40420', '20800'], dtype=object)"
      ]
     },
     "execution_count": 75,
     "metadata": {},
     "output_type": "execute_result"
    }
   ],
   "source": [
    "df_bikes['zip_code'].unique()"
   ]
  },
  {
   "cell_type": "markdown",
   "metadata": {},
   "source": [
    "Podemos ver que hay varios códigos postales que no son códigos postales (emails, texto). Usando la BBDD de Correos, podemos encontrar los códigos postales válidos de toda España y hacer así un análisis completo sobre el origen de los usuarios que poseen un pase anual. Para este análisis, como solución más sencilla, filtraremos en primer lugar los valores no numéricos y a continuación sólo detectaremos qué códigos postales pertenecen a Madrid (asumiendo el resto como C.P.s de fuera de Madrid). \n",
    "\n",
    "Como solución más completa, sería interesante analizar los códigos postales no correctos para detectar si es un problema en el diseño del sistema que captura la información (puede que no sea suficientemente intuitiva para el usuario) e incluir procesos de validación para mejorar la calidad de este dato. "
   ]
  },
  {
   "cell_type": "markdown",
   "metadata": {},
   "source": [
    "2.1.1 Limpieza y transformación del campo 'zip_code'"
   ]
  },
  {
   "cell_type": "code",
   "execution_count": 80,
   "metadata": {},
   "outputs": [
    {
     "name": "stdout",
     "output_type": "stream",
     "text": [
      "Registros totales para user_type = 0 con valor no válido de código postal: 1624 (100.0 % del total de registros para este usuario)\n",
      "Registros totales para user_type = 1 con valor no válido de código postal: 156123 (42.52711691736082 % del total de registros para este usuario)\n",
      "Registros totales para user_type = 2 con valor no válido de código postal: 5538 (97.98301486199576 % del total de registros para este usuario)\n",
      "Registros totales para user_type = 3 con valor no válido de código postal: 21567 (91.1923890063425 % del total de registros para este usuario)\n"
     ]
    }
   ],
   "source": [
    "for idx, user_type in enumerate(np.sort(df_bikes['user_type'].unique())):\n",
    "    print(\"Registros totales para user_type = {} con valor no válido de código postal: {} ({} % del total de registros para este usuario)\"\n",
    "          .format(user_type, \n",
    "                  df_bikes[df_bikes['user_type'] == user_type]['zip_code'].isna().sum(),\n",
    "                  100*df_bikes[df_bikes['user_type'] == user_type]['zip_code'].isna().sum()/len(df_bikes[df_bikes['user_type'] == user_type])))"
   ]
  },
  {
   "cell_type": "markdown",
   "metadata": {},
   "source": [
    "Para los usuarios de tipo 0, 2 y 3 no disponemos de apenas registros con el campo código postal válido. Esto era esperable, ya que estos usuarios son ocasionales/no determinados/trabajadores de la empresa. Para este análisis, sólo nos interesan los usuarios que poseen un pase anual('user_type' == '1'). "
   ]
  },
  {
   "cell_type": "code",
   "execution_count": 30,
   "metadata": {},
   "outputs": [],
   "source": [
    "zip_code_madrid_dict = {}\n",
    "f = open(\"../../data/raw/other-data/zipcodes_madrid.txt\", \"r\")\n",
    "for x in f:\n",
    "    zip_code_madrid_dict[int(x[:5])] = x[6:-1]"
   ]
  },
  {
   "cell_type": "code",
   "execution_count": 95,
   "metadata": {},
   "outputs": [],
   "source": [
    "def is_a_zip_code_from_madrid(zip_code):\n",
    "    if zip_code in zip_code_madrid_dict.keys():\n",
    "        return 'Madrid'\n",
    "    elif (zip_code == 0):\n",
    "        return 'Dato no valido'\n",
    "    return 'Fuera de Madrid'"
   ]
  },
  {
   "cell_type": "markdown",
   "metadata": {},
   "source": [
    "Para el usuario poseedor de pase anual:"
   ]
  },
  {
   "cell_type": "code",
   "execution_count": 147,
   "metadata": {},
   "outputs": [
    {
     "name": "stdout",
     "output_type": "stream",
     "text": [
      "Trayectos realizados por usuarios de la Comunidad de Madrid: 207021 (56.391475127617035 % del total)\n"
     ]
    }
   ],
   "source": [
    "zip_code_annual_user_values = pd.to_numeric(df_bikes[df_bikes['user_type'] == '1']['zip_code'], errors='coerce').fillna(0).astype('Int64').map(is_a_zip_code_from_madrid).value_counts()\n",
    "print(\"Trayectos realizados por usuarios de la Comunidad de Madrid: {} ({} % del total)\".format(zip_code_annual_user_values['Madrid'], 100*zip_code_annual_user_values['Madrid']/zip_code_annual_user_values.sum()))"
   ]
  },
  {
   "cell_type": "markdown",
   "metadata": {},
   "source": [
    "La mitad de los usuarios poseedores de un pase anual pertenecen a la Comunidad de Madrid. "
   ]
  },
  {
   "cell_type": "markdown",
   "metadata": {},
   "source": [
    "[TODO] Obtener la renta por barrio, analizar si existe relación entre la cantidad de usuarios de cada código postal y la renta de dicho distrito. "
   ]
  },
  {
   "cell_type": "markdown",
   "metadata": {},
   "source": [
    "### 3.2 Variables sociodemográficas: Análisis por tipo de usuario y rango de edad"
   ]
  },
  {
   "cell_type": "code",
   "execution_count": 264,
   "metadata": {},
   "outputs": [
    {
     "data": {
      "text/plain": [
       "array(['1', '3', '2', '0'], dtype=object)"
      ]
     },
     "execution_count": 264,
     "metadata": {},
     "output_type": "execute_result"
    }
   ],
   "source": [
    "df_bikes['user_type'].unique()"
   ]
  },
  {
   "cell_type": "code",
   "execution_count": 216,
   "metadata": {},
   "outputs": [],
   "source": [
    "user_type_dict = {\n",
    "    '0': 'Usuario sin tipo',\n",
    "    '1': 'Usuario anual',\n",
    "    '2': 'Usuario ocasional',\n",
    "    '3': 'Trabajador'\n",
    "}"
   ]
  },
  {
   "cell_type": "code",
   "execution_count": 217,
   "metadata": {},
   "outputs": [
    {
     "name": "stdout",
     "output_type": "stream",
     "text": [
      "Número de trayectos realizados por [Usuario sin tipo]: 1624 (0.4079991960606974 % del total )\n",
      "Número de trayectos realizados por [Usuario anual]: 367114 (92.23042910260276 % del total )\n",
      "Número de trayectos realizados por [Usuario ocasional]: 5652 (1.4199577931866145 % del total )\n",
      "Número de trayectos realizados por [Trabajador]: 23650 (5.941613908149935 % del total )\n"
     ]
    }
   ],
   "source": [
    "for idx, user_type in enumerate(['0', '1', '2', '3']):\n",
    "    print(\"Número de trayectos realizados por [{}]: {} ({} % del total )\".format(user_type_dict.get(user_type),\n",
    "                                                                                                    df_bikes.groupby('user_type').size()[user_type],\n",
    "                                                                                                    df_bikes.groupby('user_type').size()[user_type]/rides*100))"
   ]
  },
  {
   "cell_type": "markdown",
   "metadata": {},
   "source": [
    "La mayoría de los trayectos (el 92%) corresponde a trayectos realizados por usuarios poseedores de un pase anual. "
   ]
  },
  {
   "cell_type": "code",
   "execution_count": 110,
   "metadata": {},
   "outputs": [
    {
     "data": {
      "text/plain": [
       "ageRange\n",
       "0    1624\n",
       "dtype: int64"
      ]
     },
     "execution_count": 110,
     "metadata": {},
     "output_type": "execute_result"
    }
   ],
   "source": [
    "df_bikes[df_bikes['user_type'] == '0'].groupby('ageRange').size()"
   ]
  },
  {
   "cell_type": "code",
   "execution_count": 111,
   "metadata": {},
   "outputs": [
    {
     "data": {
      "text/plain": [
       "ageRange\n",
       "0    5535\n",
       "2       2\n",
       "3      35\n",
       "4      62\n",
       "5      18\n",
       "dtype: int64"
      ]
     },
     "execution_count": 111,
     "metadata": {},
     "output_type": "execute_result"
    }
   ],
   "source": [
    "df_bikes[df_bikes['user_type'] == '2'].groupby('ageRange').size()"
   ]
  },
  {
   "cell_type": "markdown",
   "metadata": {},
   "source": [
    "Para los usuarios de tipo 0 y 2, la mayor parte de los datos no contiene un rango de edad válido, por lo que sólo analizaremos el tipo de usuario poseedor de pase anual."
   ]
  },
  {
   "cell_type": "code",
   "execution_count": 268,
   "metadata": {},
   "outputs": [
    {
     "data": {
      "text/plain": [
       "array(['0', '2', '4', '3', '5', '1', '6'], dtype=object)"
      ]
     },
     "execution_count": 268,
     "metadata": {},
     "output_type": "execute_result"
    }
   ],
   "source": [
    "df_bikes['ageRange'].unique()"
   ]
  },
  {
   "cell_type": "code",
   "execution_count": 113,
   "metadata": {},
   "outputs": [],
   "source": [
    "user_age_dict = {\n",
    "    '0': 'Usuario con edad indeterminada',\n",
    "    '1': '0-16 años',\n",
    "    '2': '17-18 años',\n",
    "    '3': '19-26 años',\n",
    "    '4': '27-40 años',\n",
    "    '5': '41-65 años',\n",
    "    '6': '66+ años',\n",
    "}"
   ]
  },
  {
   "cell_type": "code",
   "execution_count": 118,
   "metadata": {},
   "outputs": [],
   "source": [
    "rides_annual_user = df_bikes[df_bikes['user_type']=='1'].shape[0]"
   ]
  },
  {
   "cell_type": "code",
   "execution_count": 124,
   "metadata": {},
   "outputs": [
    {
     "data": {
      "text/plain": [
       "151619"
      ]
     },
     "execution_count": 124,
     "metadata": {},
     "output_type": "execute_result"
    }
   ],
   "source": [
    "df_bikes[df_bikes['user_type']=='1'].groupby('ageRange').size()['0']"
   ]
  },
  {
   "cell_type": "code",
   "execution_count": 125,
   "metadata": {},
   "outputs": [
    {
     "name": "stdout",
     "output_type": "stream",
     "text": [
      "Número de trayectos realizados por usuarios de edad [Usuario con edad indeterminada]: 151619 (41.30025005856491 % del total )\n",
      "Número de trayectos realizados por usuarios de edad [0-16 años]: 781 (0.21274045664289565 % del total )\n",
      "Número de trayectos realizados por usuarios de edad [17-18 años]: 4234 (1.1533202220563639 % del total )\n",
      "Número de trayectos realizados por usuarios de edad [19-26 años]: 23220 (6.325010759600561 % del total )\n",
      "Número de trayectos realizados por usuarios de edad [27-40 años]: 114943 (31.30989283982632 % del total )\n",
      "Número de trayectos realizados por usuarios de edad [41-65 años]: 70602 (19.231628322537414 % del total )\n",
      "Número de trayectos realizados por usuarios de edad [66+ años]: 1715 (0.4671573407715315 % del total )\n"
     ]
    }
   ],
   "source": [
    "for idx, user_age in enumerate(['0', '1', '2', '3', '4', '5', '6']):\n",
    "    print(\"Número de trayectos realizados por usuarios de edad [{}]: {} ({} % del total )\".format(user_age_dict.get(user_age),\n",
    "                                                                                                    df_bikes[df_bikes['user_type']=='1'].groupby('ageRange').size()[user_age],\n",
    "                                                                                                    df_bikes[df_bikes['user_type']=='1'].groupby('ageRange').size()[user_age]/rides_annual_user*100))"
   ]
  },
  {
   "cell_type": "code",
   "execution_count": 276,
   "metadata": {},
   "outputs": [
    {
     "data": {
      "text/plain": [
       "Text(0.5, 1.0, 'Distribución de los usuarios poseedores de pase anual en rango de edad')"
      ]
     },
     "execution_count": 276,
     "metadata": {},
     "output_type": "execute_result"
    },
    {
     "data": {
      "image/png": "[encoded data removed]",
      "text/plain": [
       "<Figure size 432x288 with 1 Axes>"
      ]
     },
     "metadata": {
      "needs_background": "light"
     },
     "output_type": "display_data"
    }
   ],
   "source": [
    "df_bikes[df_bikes['user_type']=='1'].groupby('ageRange').size().plot.bar()\n",
    "plt.title(\"Distribución de los usuarios poseedores de pase anual en rango de edad\")"
   ]
  },
  {
   "cell_type": "markdown",
   "metadata": {},
   "source": [
    "La mayoría de los usuarios (alrededor del 30%) pertenecen al rango de edad de entre 27 y 40 años, seguidos del rango de edad de entre 41 y 65 (alrededor del 20%), que super al número de usuarios menores de 25 años. Podría ser porque estos usuarios menores de 25 años no vayan a la universidad en bicicleta, mientras que los trajadores sí la usan con este fin. "
   ]
  },
  {
   "cell_type": "markdown",
   "metadata": {},
   "source": [
    "### 3.3 Trayectos por día"
   ]
  },
  {
   "cell_type": "markdown",
   "metadata": {},
   "source": [
    "¿Cuántas veces al día utilizan los usuarios el servicio de BiciMad?"
   ]
  },
  {
   "cell_type": "code",
   "execution_count": 292,
   "metadata": {},
   "outputs": [
    {
     "data": {
      "text/plain": [
       "count    774.000000\n",
       "mean       2.098191\n",
       "std        5.300362\n",
       "min        1.000000\n",
       "25%        1.000000\n",
       "50%        1.000000\n",
       "75%        2.000000\n",
       "max       76.000000\n",
       "Name: id, dtype: float64"
      ]
     },
     "execution_count": 292,
     "metadata": {},
     "output_type": "execute_result"
    }
   ],
   "source": [
    "df_bikes[df_bikes['user_type'] == '0'].groupby(['user_day_code'])['id'].count().describe()"
   ]
  },
  {
   "cell_type": "code",
   "execution_count": 293,
   "metadata": {},
   "outputs": [
    {
     "data": {
      "text/plain": [
       "count    214765.000000\n",
       "mean          1.709375\n",
       "std           0.958364\n",
       "min           1.000000\n",
       "25%           1.000000\n",
       "50%           1.000000\n",
       "75%           2.000000\n",
       "max          17.000000\n",
       "Name: id, dtype: float64"
      ]
     },
     "execution_count": 293,
     "metadata": {},
     "output_type": "execute_result"
    }
   ],
   "source": [
    "df_bikes[df_bikes['user_type'] == '1'].groupby(['user_day_code'])['id'].count().describe()"
   ]
  },
  {
   "cell_type": "code",
   "execution_count": 294,
   "metadata": {},
   "outputs": [
    {
     "data": {
      "text/plain": [
       "count    3243.000000\n",
       "mean        1.742831\n",
       "std         1.119002\n",
       "min         1.000000\n",
       "25%         1.000000\n",
       "50%         1.000000\n",
       "75%         2.000000\n",
       "max        12.000000\n",
       "Name: id, dtype: float64"
      ]
     },
     "execution_count": 294,
     "metadata": {},
     "output_type": "execute_result"
    }
   ],
   "source": [
    "df_bikes[df_bikes['user_type'] == '2'].groupby(['user_day_code'])['id'].count().describe()"
   ]
  },
  {
   "cell_type": "markdown",
   "metadata": {},
   "source": [
    "Tanto por la cantidad de trayectos de los que disponemos como por la utilidad del análisis, elegiremos sólo el tipo de usuario que posee un pase anual. Además, el comportamiento es muy similar al usuario ocasional (métricas estadísticas similares). "
   ]
  },
  {
   "cell_type": "code",
   "execution_count": 297,
   "metadata": {},
   "outputs": [
    {
     "data": {
      "text/plain": [
       "<matplotlib.axes._subplots.AxesSubplot at 0x7fae0071cc70>"
      ]
     },
     "execution_count": 297,
     "metadata": {},
     "output_type": "execute_result"
    },
    {
     "data": {
      "image/png": "[encoded data removed]",
      "text/plain": [
       "<Figure size 432x288 with 1 Axes>"
      ]
     },
     "metadata": {
      "needs_background": "light"
     },
     "output_type": "display_data"
    }
   ],
   "source": [
    "df_bikes[df_bikes['user_type'] == '1'].groupby(['user_day_code'])['id'].count().hist(bins=10)"
   ]
  },
  {
   "cell_type": "markdown",
   "metadata": {},
   "source": [
    "La mayoría de usuarios realiza entre 1 y 2 viajes al día. Sin embargo, disponemos de registros de usuarios que han realizado más de 10 trayectos en un día.\n",
    "[TODO]̣ Analizar qué significan estos trayectos (estaciones por las que han pasado, rango de edad)"
   ]
  },
  {
   "cell_type": "code",
   "execution_count": 305,
   "metadata": {},
   "outputs": [
    {
     "data": {
      "text/plain": [
       "user_day_code\n",
       "c109aa90eecc8bfb2e4e2a33d90cb0559838c37270ee7447b4aec17c1f44244f    17\n",
       "063b133a535287442c7a01045f56b59626659394ffe38b763c033dca1046e927    16\n",
       "a697581b267d5383587b8692fcc6c6c77c925a3ba8e166735bd7352cbd6a18ef    16\n",
       "78e916aba401072ec0c7aa59a6d91cd8d1a35e793274bffa65058c35a20095d3    15\n",
       "b02bd4d6a2fe5ab32c31eb1d3bb1a3bfd12544afbc2fe6b64edcb490c8c3db3a    15\n",
       "2530dc37ab3558448462ad37f45933de2a3e53304a1e3fc746da0101acf626d9    15\n",
       "4b12865aacdd608aabea4d193700ca98a38c77a8fe18aca525bf31442f7e092b    14\n",
       "0469101764f9f251cfd06469fbae9ec321e4e3d64dbf07f3eb45239cf74a02b3    14\n",
       "a4ccab27a69bafb306e9c662842e250db2e4edfdaec13c4839c8b149224fb1a4    14\n",
       "c9907ab6c12d341c25cd277c14ab63531db02deae0de45419de324aa5724f322    13\n",
       "Name: id, dtype: int64"
      ]
     },
     "execution_count": 305,
     "metadata": {},
     "output_type": "execute_result"
    }
   ],
   "source": [
    "df_bikes[df_bikes['user_type'] == '1'].groupby(['user_day_code'])['id'].count().sort_values(ascending=False).head(10)"
   ]
  },
  {
   "cell_type": "markdown",
   "metadata": {},
   "source": [
    "## 4. Distancia entre origen y destino"
   ]
  },
  {
   "cell_type": "markdown",
   "metadata": {},
   "source": [
    "#### 4.1. Análisis de calidad: cuántos trayectos tienen vacíos los campos de id de estación de origen/destino"
   ]
  },
  {
   "cell_type": "code",
   "execution_count": 113,
   "metadata": {},
   "outputs": [
    {
     "name": "stdout",
     "output_type": "stream",
     "text": [
      "Campos vacíos de estación de origen: 0 (0.0% del total)\n",
      "Campos vacíos de estación de destino: 0 (0.0% del total)\n"
     ]
    }
   ],
   "source": [
    "print('Campos vacíos de estación de origen: {} ({}% del total)'.format(df_bikes['idunplug_station'].isna().sum(), df_bikes['idunplug_station'].isna().sum()/df_bikes.shape[0]*100))\n",
    "print('Campos vacíos de estación de destino: {} ({}% del total)'.format(df_bikes['idplug_station'].isna().sum(), df_bikes['idplug_station'].isna().sum()/df_bikes.shape[0]*100))"
   ]
  },
  {
   "cell_type": "markdown",
   "metadata": {},
   "source": [
    "#### 4.2 Cálculo de la distancia"
   ]
  },
  {
   "cell_type": "markdown",
   "metadata": {},
   "source": [
    "- Solución óptima: Acceder a la API de Google Maps para calcular la distancia real entre dos distancias (en bici). \n",
    "- Solución actual (por falta de tiempo): Cálculo de la distancia usando la fórmula de semiverseno (https://es.wikipedia.org/wiki/F%C3%B3rmula_del_semiverseno). Esta formula calcula la distancia de círculo máximo entre dos puntos de una esfera. La utilizaremos únicamente para dividir los viajes en largos y cortos."
   ]
  },
  {
   "cell_type": "code",
   "execution_count": 36,
   "metadata": {},
   "outputs": [],
   "source": [
    "def haversine_distance(src_latitude, src_longitude, dst_latitude, dst_longitude):\n",
    "    r = 6371\n",
    "    phi1 = np.radians(src_latitude)\n",
    "    phi2 = np.radians(dst_latitude)\n",
    "    delta_phi = np.radians(dst_latitude - src_latitude)\n",
    "    delta_lambda = np.radians(dst_longitude - src_longitude)\n",
    "    a = np.sin(delta_phi / 2)**2 + np.cos(phi1) * np.cos(phi2) * np.sin(delta_lambda / 2)**2\n",
    "    res = r * (2 * np.arctan2(np.sqrt(a), np.sqrt(1 - a)))\n",
    "    return np.round(res, 2)"
   ]
  },
  {
   "cell_type": "code",
   "execution_count": 37,
   "metadata": {},
   "outputs": [],
   "source": [
    "# mapping dicts to transform station-id to long/lat\n",
    "bases_to_long = df_bases[['Número', 'LONGITUD']].set_index('Número').T.to_dict('list')\n",
    "bases_to_long = {key: value[0] for key, value in bases_to_long.items()}\n",
    "bases_to_lat = df_bases[['Número', 'LATITUD']].set_index('Número').T.to_dict('list')\n",
    "bases_to_lat = {key: value[0] for key, value in bases_to_lat.items()}"
   ]
  },
  {
   "cell_type": "code",
   "execution_count": 38,
   "metadata": {},
   "outputs": [],
   "source": [
    "# new column with the calculated distance\n",
    "df_bikes['haver_distance'] = haversine_distance(df_bikes['idplug_station'].map(bases_to_lat), df_bikes['idplug_station'].map(bases_to_long), df_bikes['idunplug_station'].map(bases_to_lat), df_bikes['idunplug_station'].map(bases_to_long))"
   ]
  },
  {
   "cell_type": "code",
   "execution_count": 49,
   "metadata": {},
   "outputs": [
    {
     "data": {
      "text/plain": [
       "count    316235.000000\n",
       "mean          2.344154\n",
       "std           1.366865\n",
       "min           0.000000\n",
       "25%           1.320000\n",
       "50%           2.230000\n",
       "75%           3.220000\n",
       "max           7.410000\n",
       "Name: haver_distance, dtype: float64"
      ]
     },
     "execution_count": 49,
     "metadata": {},
     "output_type": "execute_result"
    }
   ],
   "source": [
    "df_bikes['haver_distance'].describe() #excluding NaN values"
   ]
  },
  {
   "cell_type": "code",
   "execution_count": 46,
   "metadata": {},
   "outputs": [
    {
     "data": {
      "text/plain": [
       "array([[<matplotlib.axes._subplots.AxesSubplot object at 0x7f0a347bcee0>]],\n",
       "      dtype=object)"
      ]
     },
     "execution_count": 46,
     "metadata": {},
     "output_type": "execute_result"
    },
    {
     "data": {
      "image/png": "[encoded data removed]",
      "text/plain": [
       "<Figure size 432x288 with 1 Axes>"
      ]
     },
     "metadata": {
      "needs_background": "light"
     },
     "output_type": "display_data"
    }
   ],
   "source": [
    "df_bikes.hist('haver_distance', bins=50)"
   ]
  },
  {
   "cell_type": "code",
   "execution_count": 42,
   "metadata": {},
   "outputs": [
    {
     "data": {
      "text/plain": [
       "<matplotlib.axes._subplots.AxesSubplot at 0x7f0a3481e4c0>"
      ]
     },
     "execution_count": 42,
     "metadata": {},
     "output_type": "execute_result"
    },
    {
     "data": {
      "image/png": "[encoded data removed]",
      "text/plain": [
       "<Figure size 432x288 with 1 Axes>"
      ]
     },
     "metadata": {
      "needs_background": "light"
     },
     "output_type": "display_data"
    }
   ],
   "source": [
    "df_bikes.boxplot('haver_distance')"
   ]
  },
  {
   "cell_type": "markdown",
   "metadata": {},
   "source": [
    "## 5. Análisis por fecha y hora"
   ]
  },
  {
   "cell_type": "markdown",
   "metadata": {},
   "source": [
    "#### 5.1 Análisis por día de la semana"
   ]
  },
  {
   "cell_type": "code",
   "execution_count": 421,
   "metadata": {},
   "outputs": [],
   "source": [
    "# aux function to transform numeric day of week to string\n",
    "def day_of_week_to_string(day):\n",
    "    switcher = {\n",
    "        0: 'Mon',\n",
    "        1: 'Tue',\n",
    "        2: 'Wed',\n",
    "        3: 'Thu',\n",
    "        4: 'Fri',\n",
    "        5: 'Sat',\n",
    "        6: 'Sun',       \n",
    "    }\n",
    "    return switcher.get(day)"
   ]
  },
  {
   "cell_type": "code",
   "execution_count": 481,
   "metadata": {},
   "outputs": [],
   "source": [
    "df_bikes['day_of_week'] = df_bikes['datetime_unplug'].dt.dayofweek.map(day_of_week_to_string)\n",
    "df_bikes['hour'] = df_bikes['datetime_unplug'].dt.hour\n",
    "df_bikes['month'] = df_bikes['datetime_unplug'].dt.month\n",
    "df_bikes['day'] = df_bikes['datetime_unplug'].dt.day"
   ]
  },
  {
   "cell_type": "markdown",
   "metadata": {},
   "source": [
    "Sólo vamos a usar los datos cuyo duración de trayecto no es anómala y descartar trayectos correspondientes a usuarios de la empresa"
   ]
  },
  {
   "cell_type": "code",
   "execution_count": 487,
   "metadata": {},
   "outputs": [],
   "source": [
    "df_bikes_clean = df_bikes_normal_travel_time\n",
    "df_bikes_clean = df_bikes_clean[df_bikes_clean['user_type'] != '3']"
   ]
  },
  {
   "cell_type": "code",
   "execution_count": 488,
   "metadata": {},
   "outputs": [
    {
     "data": {
      "text/html": [
       "<div>\n",
       "<style scoped>\n",
       "    .dataframe tbody tr th:only-of-type {\n",
       "        vertical-align: middle;\n",
       "    }\n",
       "\n",
       "    .dataframe tbody tr th {\n",
       "        vertical-align: top;\n",
       "    }\n",
       "\n",
       "    .dataframe thead th {\n",
       "        text-align: right;\n",
       "    }\n",
       "</style>\n",
       "<table border=\"1\" class=\"dataframe\">\n",
       "  <thead>\n",
       "    <tr style=\"text-align: right;\">\n",
       "      <th></th>\n",
       "      <th>day</th>\n",
       "      <th>day_of_week</th>\n",
       "      <th>month</th>\n",
       "      <th>rides</th>\n",
       "    </tr>\n",
       "  </thead>\n",
       "  <tbody>\n",
       "    <tr>\n",
       "      <th>0</th>\n",
       "      <td>1</td>\n",
       "      <td>Sat</td>\n",
       "      <td>9</td>\n",
       "      <td>8232</td>\n",
       "    </tr>\n",
       "    <tr>\n",
       "      <th>1</th>\n",
       "      <td>2</td>\n",
       "      <td>Sun</td>\n",
       "      <td>9</td>\n",
       "      <td>8164</td>\n",
       "    </tr>\n",
       "    <tr>\n",
       "      <th>2</th>\n",
       "      <td>3</td>\n",
       "      <td>Mon</td>\n",
       "      <td>9</td>\n",
       "      <td>12472</td>\n",
       "    </tr>\n",
       "    <tr>\n",
       "      <th>3</th>\n",
       "      <td>4</td>\n",
       "      <td>Tue</td>\n",
       "      <td>9</td>\n",
       "      <td>13738</td>\n",
       "    </tr>\n",
       "    <tr>\n",
       "      <th>4</th>\n",
       "      <td>5</td>\n",
       "      <td>Wed</td>\n",
       "      <td>9</td>\n",
       "      <td>13959</td>\n",
       "    </tr>\n",
       "  </tbody>\n",
       "</table>\n",
       "</div>"
      ],
      "text/plain": [
       "   day day_of_week  month  rides\n",
       "0    1         Sat      9   8232\n",
       "1    2         Sun      9   8164\n",
       "2    3         Mon      9  12472\n",
       "3    4         Tue      9  13738\n",
       "4    5         Wed      9  13959"
      ]
     },
     "execution_count": 488,
     "metadata": {},
     "output_type": "execute_result"
    }
   ],
   "source": [
    "df_rides_per_day = df_bikes_clean.groupby(['day', 'day_of_week', 'month']).count()['id'].reset_index(name='rides')\n",
    "df_rides_per_day.head()"
   ]
  },
  {
   "cell_type": "code",
   "execution_count": 489,
   "metadata": {},
   "outputs": [
    {
     "data": {
      "text/plain": [
       "<matplotlib.axes._subplots.AxesSubplot at 0x7fae00385790>"
      ]
     },
     "execution_count": 489,
     "metadata": {},
     "output_type": "execute_result"
    },
    {
     "data": {
      "image/png": "[encoded data removed]",
      "text/plain": [
       "<Figure size 432x288 with 1 Axes>"
      ]
     },
     "metadata": {
      "needs_background": "light"
     },
     "output_type": "display_data"
    }
   ],
   "source": [
    "rides_per_day_of_week = df_rides_per_day.groupby('day_of_week')['rides'].mean().reset_index()\n",
    "day_of_week_sorter = ['Mon', 'Tue', 'Wed', 'Thu', 'Fri', 'Sat', 'Sun']\n",
    "rides_per_day_of_week['day_of_week'] = pd.Categorical(a['day_of_week'], day_of_week_sorter)\n",
    "rides_per_day_of_week.sort_values(by='day_of_week')\n",
    "sns.barplot(rides_per_day_of_week['day_of_week'], rides_per_day_of_week['rides'])"
   ]
  },
  {
   "cell_type": "markdown",
   "metadata": {},
   "source": [
    "De media, existen menos trayectos los fines de semana que los días entre semana. Probablemente se deba a que gran parte de los trayectos corresponde a usuarios usando el servicio de BiciMad para ir/volver al trabajo."
   ]
  },
  {
   "cell_type": "markdown",
   "metadata": {},
   "source": [
    "#### 5.2 Análisis por hora"
   ]
  },
  {
   "cell_type": "markdown",
   "metadata": {},
   "source": [
    "#### 5.2.1 Análisis por hora durante el fin de semana"
   ]
  },
  {
   "cell_type": "code",
   "execution_count": 504,
   "metadata": {},
   "outputs": [
    {
     "data": {
      "text/html": [
       "<div>\n",
       "<style scoped>\n",
       "    .dataframe tbody tr th:only-of-type {\n",
       "        vertical-align: middle;\n",
       "    }\n",
       "\n",
       "    .dataframe tbody tr th {\n",
       "        vertical-align: top;\n",
       "    }\n",
       "\n",
       "    .dataframe thead th {\n",
       "        text-align: right;\n",
       "    }\n",
       "</style>\n",
       "<table border=\"1\" class=\"dataframe\">\n",
       "  <thead>\n",
       "    <tr style=\"text-align: right;\">\n",
       "      <th></th>\n",
       "      <th>day_of_week</th>\n",
       "      <th>day</th>\n",
       "      <th>hour</th>\n",
       "      <th>rides</th>\n",
       "    </tr>\n",
       "  </thead>\n",
       "  <tbody>\n",
       "    <tr>\n",
       "      <th>0</th>\n",
       "      <td>Fri</td>\n",
       "      <td>7</td>\n",
       "      <td>0</td>\n",
       "      <td>466</td>\n",
       "    </tr>\n",
       "    <tr>\n",
       "      <th>1</th>\n",
       "      <td>Fri</td>\n",
       "      <td>7</td>\n",
       "      <td>1</td>\n",
       "      <td>241</td>\n",
       "    </tr>\n",
       "    <tr>\n",
       "      <th>2</th>\n",
       "      <td>Fri</td>\n",
       "      <td>7</td>\n",
       "      <td>2</td>\n",
       "      <td>181</td>\n",
       "    </tr>\n",
       "    <tr>\n",
       "      <th>3</th>\n",
       "      <td>Fri</td>\n",
       "      <td>7</td>\n",
       "      <td>3</td>\n",
       "      <td>107</td>\n",
       "    </tr>\n",
       "    <tr>\n",
       "      <th>4</th>\n",
       "      <td>Fri</td>\n",
       "      <td>7</td>\n",
       "      <td>4</td>\n",
       "      <td>71</td>\n",
       "    </tr>\n",
       "    <tr>\n",
       "      <th>5</th>\n",
       "      <td>Fri</td>\n",
       "      <td>7</td>\n",
       "      <td>5</td>\n",
       "      <td>62</td>\n",
       "    </tr>\n",
       "    <tr>\n",
       "      <th>6</th>\n",
       "      <td>Fri</td>\n",
       "      <td>7</td>\n",
       "      <td>6</td>\n",
       "      <td>93</td>\n",
       "    </tr>\n",
       "    <tr>\n",
       "      <th>7</th>\n",
       "      <td>Fri</td>\n",
       "      <td>7</td>\n",
       "      <td>7</td>\n",
       "      <td>487</td>\n",
       "    </tr>\n",
       "    <tr>\n",
       "      <th>8</th>\n",
       "      <td>Fri</td>\n",
       "      <td>7</td>\n",
       "      <td>8</td>\n",
       "      <td>981</td>\n",
       "    </tr>\n",
       "    <tr>\n",
       "      <th>9</th>\n",
       "      <td>Fri</td>\n",
       "      <td>7</td>\n",
       "      <td>9</td>\n",
       "      <td>812</td>\n",
       "    </tr>\n",
       "  </tbody>\n",
       "</table>\n",
       "</div>"
      ],
      "text/plain": [
       "  day_of_week  day  hour  rides\n",
       "0         Fri    7     0    466\n",
       "1         Fri    7     1    241\n",
       "2         Fri    7     2    181\n",
       "3         Fri    7     3    107\n",
       "4         Fri    7     4     71\n",
       "5         Fri    7     5     62\n",
       "6         Fri    7     6     93\n",
       "7         Fri    7     7    487\n",
       "8         Fri    7     8    981\n",
       "9         Fri    7     9    812"
      ]
     },
     "execution_count": 504,
     "metadata": {},
     "output_type": "execute_result"
    }
   ],
   "source": [
    "df_rides_per_day_per_hour = df_bikes_clean.groupby(['day_of_week', 'day', 'hour']).count()['id'].reset_index(name='rides')\n",
    "df_rides_per_day_per_hour.head(10)"
   ]
  },
  {
   "cell_type": "code",
   "execution_count": 505,
   "metadata": {},
   "outputs": [],
   "source": [
    "rides_per_day_per_hour = df_rides_per_day_per_hour.groupby(['day_of_week', 'hour'])['rides'].mean().reset_index()\n",
    "#day_of_week_sorter = ['Mon', 'Tue', 'Wed', 'Thu', 'Fri', 'Sat', 'Sun']\n",
    "#rides_per_day_of_week['day_of_week'] = pd.Categorical(a['day_of_week'], day_of_week_sorter)\n",
    "#rides_per_day_of_week.sort_values(by='day_of_week')\n",
    "sns.barplot(rides_per_day_per_hour['day_of_week'], rides_per_day_of_week['rides'])"
   ]
  },
  {
   "cell_type": "code",
   "execution_count": 507,
   "metadata": {},
   "outputs": [
    {
     "name": "stderr",
     "output_type": "stream",
     "text": [
      "/home/irene/anaconda3/envs/keepler-bicimad-env/lib/python3.8/site-packages/seaborn/axisgrid.py:723: UserWarning: Using the barplot function without specifying `order` is likely to produce an incorrect plot.\n",
      "  warnings.warn(warning)\n"
     ]
    },
    {
     "data": {
      "text/plain": [
       "<seaborn.axisgrid.FacetGrid at 0x7fadff6192e0>"
      ]
     },
     "execution_count": 507,
     "metadata": {},
     "output_type": "execute_result"
    },
    {
     "data": {
      "image/png": "[encoded data removed]",
      "text/plain": [
       "<Figure size 1512x216 with 7 Axes>"
      ]
     },
     "metadata": {
      "needs_background": "light"
     },
     "output_type": "display_data"
    }
   ],
   "source": [
    "g = sns.FacetGrid(rides_per_day_per_hour, col='day_of_week')\n",
    "g.map(sns.barplot, 'hour', 'rides')"
   ]
  },
  {
   "cell_type": "code",
   "execution_count": null,
   "metadata": {},
   "outputs": [],
   "source": []
  },
  {
   "cell_type": "markdown",
   "metadata": {},
   "source": [
    "#### 5.2.1 Análisis por hora entre semana"
   ]
  },
  {
   "cell_type": "code",
   "execution_count": null,
   "metadata": {},
   "outputs": [],
   "source": []
  },
  {
   "cell_type": "markdown",
   "metadata": {},
   "source": [
    "## 6. Cálculo de las estaciones más populares y más rentables"
   ]
  },
  {
   "cell_type": "markdown",
   "metadata": {},
   "source": [
    "### 6.1 Estaciones más populares"
   ]
  },
  {
   "cell_type": "markdown",
   "metadata": {},
   "source": [
    "Antes de realizar el análisis, vamos a eliminar los trayectos que corresponden a trabajadores de la empresa así como los trayectos anómalos (obtenidos en la sección XX)"
   ]
  },
  {
   "cell_type": "code",
   "execution_count": 378,
   "metadata": {},
   "outputs": [],
   "source": [
    "df_bikes_users = df_bikes_normal_travel_time[df_bikes_normal_travel_time['user_type'] != '3']"
   ]
  },
  {
   "cell_type": "code",
   "execution_count": 379,
   "metadata": {},
   "outputs": [
    {
     "data": {
      "text/html": [
       "<div>\n",
       "<style scoped>\n",
       "    .dataframe tbody tr th:only-of-type {\n",
       "        vertical-align: middle;\n",
       "    }\n",
       "\n",
       "    .dataframe tbody tr th {\n",
       "        vertical-align: top;\n",
       "    }\n",
       "\n",
       "    .dataframe thead th {\n",
       "        text-align: right;\n",
       "    }\n",
       "</style>\n",
       "<table border=\"1\" class=\"dataframe\">\n",
       "  <thead>\n",
       "    <tr style=\"text-align: right;\">\n",
       "      <th></th>\n",
       "      <th>idunplug_station</th>\n",
       "      <th>rides</th>\n",
       "      <th>Número</th>\n",
       "      <th>Distrito</th>\n",
       "      <th>DIRECCION</th>\n",
       "      <th>Número de Plazas</th>\n",
       "    </tr>\n",
       "  </thead>\n",
       "  <tbody>\n",
       "    <tr>\n",
       "      <th>0</th>\n",
       "      <td>163</td>\n",
       "      <td>4915</td>\n",
       "      <td>163</td>\n",
       "      <td>02  ARGANZUELA</td>\n",
       "      <td>ESPERANZA, PASEO, DE LA,</td>\n",
       "      <td>24</td>\n",
       "    </tr>\n",
       "    <tr>\n",
       "      <th>1</th>\n",
       "      <td>57</td>\n",
       "      <td>4653</td>\n",
       "      <td>57</td>\n",
       "      <td>01  CENTRO</td>\n",
       "      <td>SANTA CRUZ DE MARCENADO, CALLE, DE,24</td>\n",
       "      <td>27</td>\n",
       "    </tr>\n",
       "    <tr>\n",
       "      <th>2</th>\n",
       "      <td>135</td>\n",
       "      <td>4536</td>\n",
       "      <td>135</td>\n",
       "      <td>07  CHAMBERÍ</td>\n",
       "      <td>SAN JUAN DE LA CRUZ, PLAZA, DE,S/N</td>\n",
       "      <td>24</td>\n",
       "    </tr>\n",
       "    <tr>\n",
       "      <th>3</th>\n",
       "      <td>149</td>\n",
       "      <td>4396</td>\n",
       "      <td>149</td>\n",
       "      <td>05  CHAMARTÍN</td>\n",
       "      <td>LA HABANA, PASEO, DE,42</td>\n",
       "      <td>24</td>\n",
       "    </tr>\n",
       "    <tr>\n",
       "      <th>4</th>\n",
       "      <td>90</td>\n",
       "      <td>4227</td>\n",
       "      <td>90</td>\n",
       "      <td>04  SALAMANCA</td>\n",
       "      <td>GOYA, CALLE, DE,18</td>\n",
       "      <td>24</td>\n",
       "    </tr>\n",
       "    <tr>\n",
       "      <th>5</th>\n",
       "      <td>43</td>\n",
       "      <td>4152</td>\n",
       "      <td>43</td>\n",
       "      <td>01  CENTRO</td>\n",
       "      <td>LAVAPIES, CALLE, DE,36</td>\n",
       "      <td>24</td>\n",
       "    </tr>\n",
       "    <tr>\n",
       "      <th>6</th>\n",
       "      <td>160</td>\n",
       "      <td>3910</td>\n",
       "      <td>160</td>\n",
       "      <td>05  CHAMARTÍN</td>\n",
       "      <td>COLOMBIA, CALLE, DE,7</td>\n",
       "      <td>24</td>\n",
       "    </tr>\n",
       "    <tr>\n",
       "      <th>7</th>\n",
       "      <td>129</td>\n",
       "      <td>3826</td>\n",
       "      <td>129</td>\n",
       "      <td>07  CHAMBERÍ</td>\n",
       "      <td>JOSE ABASCAL, CALLE, DE,33</td>\n",
       "      <td>24</td>\n",
       "    </tr>\n",
       "    <tr>\n",
       "      <th>8</th>\n",
       "      <td>19</td>\n",
       "      <td>3757</td>\n",
       "      <td>19</td>\n",
       "      <td>01  CENTRO</td>\n",
       "      <td>PRIM, CALLE, DE,4</td>\n",
       "      <td>24</td>\n",
       "    </tr>\n",
       "    <tr>\n",
       "      <th>9</th>\n",
       "      <td>46</td>\n",
       "      <td>3724</td>\n",
       "      <td>46</td>\n",
       "      <td>02  ARGANZUELA</td>\n",
       "      <td>RIBERA DE CURTIDORES, CALLE, DE LA,28</td>\n",
       "      <td>24</td>\n",
       "    </tr>\n",
       "    <tr>\n",
       "      <th>10</th>\n",
       "      <td>58</td>\n",
       "      <td>3533</td>\n",
       "      <td>58</td>\n",
       "      <td>01  CENTRO</td>\n",
       "      <td>AUGUSTO FIGUEROA, CALLE, DE,33</td>\n",
       "      <td>27</td>\n",
       "    </tr>\n",
       "    <tr>\n",
       "      <th>11</th>\n",
       "      <td>162</td>\n",
       "      <td>3468</td>\n",
       "      <td>162</td>\n",
       "      <td>02  ARGANZUELA</td>\n",
       "      <td>OLMOS, PASEO, DE LOS,28</td>\n",
       "      <td>24</td>\n",
       "    </tr>\n",
       "  </tbody>\n",
       "</table>\n",
       "</div>"
      ],
      "text/plain": [
       "   idunplug_station  rides Número        Distrito  \\\n",
       "0               163   4915    163  02  ARGANZUELA   \n",
       "1                57   4653     57      01  CENTRO   \n",
       "2               135   4536    135    07  CHAMBERÍ   \n",
       "3               149   4396    149   05  CHAMARTÍN   \n",
       "4                90   4227     90   04  SALAMANCA   \n",
       "5                43   4152     43      01  CENTRO   \n",
       "6               160   3910    160   05  CHAMARTÍN   \n",
       "7               129   3826    129    07  CHAMBERÍ   \n",
       "8                19   3757     19      01  CENTRO   \n",
       "9                46   3724     46  02  ARGANZUELA   \n",
       "10               58   3533     58      01  CENTRO   \n",
       "11              162   3468    162  02  ARGANZUELA   \n",
       "\n",
       "                                DIRECCION  Número de Plazas  \n",
       "0                ESPERANZA, PASEO, DE LA,                24  \n",
       "1   SANTA CRUZ DE MARCENADO, CALLE, DE,24                27  \n",
       "2      SAN JUAN DE LA CRUZ, PLAZA, DE,S/N                24  \n",
       "3                 LA HABANA, PASEO, DE,42                24  \n",
       "4                      GOYA, CALLE, DE,18                24  \n",
       "5                  LAVAPIES, CALLE, DE,36                24  \n",
       "6                   COLOMBIA, CALLE, DE,7                24  \n",
       "7              JOSE ABASCAL, CALLE, DE,33                24  \n",
       "8                       PRIM, CALLE, DE,4                24  \n",
       "9   RIBERA DE CURTIDORES, CALLE, DE LA,28                24  \n",
       "10         AUGUSTO FIGUEROA, CALLE, DE,33                27  \n",
       "11                OLMOS, PASEO, DE LOS,28                24  "
      ]
     },
     "execution_count": 379,
     "metadata": {},
     "output_type": "execute_result"
    }
   ],
   "source": [
    "df_bikes_users.groupby('idunplug_station').size().reset_index(name='rides').sort_values(by='rides', ascending=False).head(15).merge(df_bases[['Número', 'Distrito', 'DIRECCION', 'Número de Plazas']], left_on='idunplug_station', right_on='Número')"
   ]
  },
  {
   "cell_type": "code",
   "execution_count": 380,
   "metadata": {},
   "outputs": [
    {
     "data": {
      "text/html": [
       "<div>\n",
       "<style scoped>\n",
       "    .dataframe tbody tr th:only-of-type {\n",
       "        vertical-align: middle;\n",
       "    }\n",
       "\n",
       "    .dataframe tbody tr th {\n",
       "        vertical-align: top;\n",
       "    }\n",
       "\n",
       "    .dataframe thead th {\n",
       "        text-align: right;\n",
       "    }\n",
       "</style>\n",
       "<table border=\"1\" class=\"dataframe\">\n",
       "  <thead>\n",
       "    <tr style=\"text-align: right;\">\n",
       "      <th></th>\n",
       "      <th>idplug_station</th>\n",
       "      <th>rides</th>\n",
       "      <th>Número</th>\n",
       "      <th>Distrito</th>\n",
       "      <th>DIRECCION</th>\n",
       "      <th>Número de Plazas</th>\n",
       "    </tr>\n",
       "  </thead>\n",
       "  <tbody>\n",
       "    <tr>\n",
       "      <th>0</th>\n",
       "      <td>135</td>\n",
       "      <td>5901</td>\n",
       "      <td>135</td>\n",
       "      <td>07  CHAMBERÍ</td>\n",
       "      <td>SAN JUAN DE LA CRUZ, PLAZA, DE,S/N</td>\n",
       "      <td>24</td>\n",
       "    </tr>\n",
       "    <tr>\n",
       "      <th>1</th>\n",
       "      <td>163</td>\n",
       "      <td>4898</td>\n",
       "      <td>163</td>\n",
       "      <td>02  ARGANZUELA</td>\n",
       "      <td>ESPERANZA, PASEO, DE LA,</td>\n",
       "      <td>24</td>\n",
       "    </tr>\n",
       "    <tr>\n",
       "      <th>2</th>\n",
       "      <td>57</td>\n",
       "      <td>4532</td>\n",
       "      <td>57</td>\n",
       "      <td>01  CENTRO</td>\n",
       "      <td>SANTA CRUZ DE MARCENADO, CALLE, DE,24</td>\n",
       "      <td>27</td>\n",
       "    </tr>\n",
       "    <tr>\n",
       "      <th>3</th>\n",
       "      <td>43</td>\n",
       "      <td>4491</td>\n",
       "      <td>43</td>\n",
       "      <td>01  CENTRO</td>\n",
       "      <td>LAVAPIES, CALLE, DE,36</td>\n",
       "      <td>24</td>\n",
       "    </tr>\n",
       "    <tr>\n",
       "      <th>4</th>\n",
       "      <td>149</td>\n",
       "      <td>4471</td>\n",
       "      <td>149</td>\n",
       "      <td>05  CHAMARTÍN</td>\n",
       "      <td>LA HABANA, PASEO, DE,42</td>\n",
       "      <td>24</td>\n",
       "    </tr>\n",
       "    <tr>\n",
       "      <th>5</th>\n",
       "      <td>129</td>\n",
       "      <td>4345</td>\n",
       "      <td>129</td>\n",
       "      <td>07  CHAMBERÍ</td>\n",
       "      <td>JOSE ABASCAL, CALLE, DE,33</td>\n",
       "      <td>24</td>\n",
       "    </tr>\n",
       "    <tr>\n",
       "      <th>6</th>\n",
       "      <td>90</td>\n",
       "      <td>4149</td>\n",
       "      <td>90</td>\n",
       "      <td>04  SALAMANCA</td>\n",
       "      <td>GOYA, CALLE, DE,18</td>\n",
       "      <td>24</td>\n",
       "    </tr>\n",
       "    <tr>\n",
       "      <th>7</th>\n",
       "      <td>160</td>\n",
       "      <td>3894</td>\n",
       "      <td>160</td>\n",
       "      <td>05  CHAMARTÍN</td>\n",
       "      <td>COLOMBIA, CALLE, DE,7</td>\n",
       "      <td>24</td>\n",
       "    </tr>\n",
       "    <tr>\n",
       "      <th>8</th>\n",
       "      <td>46</td>\n",
       "      <td>3809</td>\n",
       "      <td>46</td>\n",
       "      <td>02  ARGANZUELA</td>\n",
       "      <td>RIBERA DE CURTIDORES, CALLE, DE LA,28</td>\n",
       "      <td>24</td>\n",
       "    </tr>\n",
       "    <tr>\n",
       "      <th>9</th>\n",
       "      <td>19</td>\n",
       "      <td>3758</td>\n",
       "      <td>19</td>\n",
       "      <td>01  CENTRO</td>\n",
       "      <td>PRIM, CALLE, DE,4</td>\n",
       "      <td>24</td>\n",
       "    </tr>\n",
       "    <tr>\n",
       "      <th>10</th>\n",
       "      <td>83</td>\n",
       "      <td>3550</td>\n",
       "      <td>83</td>\n",
       "      <td>03  RETIRO</td>\n",
       "      <td>PIO BAROJA, CALLE, DE,8 B</td>\n",
       "      <td>24</td>\n",
       "    </tr>\n",
       "    <tr>\n",
       "      <th>11</th>\n",
       "      <td>132</td>\n",
       "      <td>3508</td>\n",
       "      <td>132</td>\n",
       "      <td>07  CHAMBERÍ</td>\n",
       "      <td>SANTA ENGRACIA, CALLE, DE,168</td>\n",
       "      <td>24</td>\n",
       "    </tr>\n",
       "    <tr>\n",
       "      <th>12</th>\n",
       "      <td>58</td>\n",
       "      <td>3470</td>\n",
       "      <td>58</td>\n",
       "      <td>01  CENTRO</td>\n",
       "      <td>AUGUSTO FIGUEROA, CALLE, DE,33</td>\n",
       "      <td>27</td>\n",
       "    </tr>\n",
       "  </tbody>\n",
       "</table>\n",
       "</div>"
      ],
      "text/plain": [
       "   idplug_station  rides Número        Distrito  \\\n",
       "0             135   5901    135    07  CHAMBERÍ   \n",
       "1             163   4898    163  02  ARGANZUELA   \n",
       "2              57   4532     57      01  CENTRO   \n",
       "3              43   4491     43      01  CENTRO   \n",
       "4             149   4471    149   05  CHAMARTÍN   \n",
       "5             129   4345    129    07  CHAMBERÍ   \n",
       "6              90   4149     90   04  SALAMANCA   \n",
       "7             160   3894    160   05  CHAMARTÍN   \n",
       "8              46   3809     46  02  ARGANZUELA   \n",
       "9              19   3758     19      01  CENTRO   \n",
       "10             83   3550     83      03  RETIRO   \n",
       "11            132   3508    132    07  CHAMBERÍ   \n",
       "12             58   3470     58      01  CENTRO   \n",
       "\n",
       "                                DIRECCION  Número de Plazas  \n",
       "0      SAN JUAN DE LA CRUZ, PLAZA, DE,S/N                24  \n",
       "1                ESPERANZA, PASEO, DE LA,                24  \n",
       "2   SANTA CRUZ DE MARCENADO, CALLE, DE,24                27  \n",
       "3                  LAVAPIES, CALLE, DE,36                24  \n",
       "4                 LA HABANA, PASEO, DE,42                24  \n",
       "5              JOSE ABASCAL, CALLE, DE,33                24  \n",
       "6                      GOYA, CALLE, DE,18                24  \n",
       "7                   COLOMBIA, CALLE, DE,7                24  \n",
       "8   RIBERA DE CURTIDORES, CALLE, DE LA,28                24  \n",
       "9                       PRIM, CALLE, DE,4                24  \n",
       "10              PIO BAROJA, CALLE, DE,8 B                24  \n",
       "11          SANTA ENGRACIA, CALLE, DE,168                24  \n",
       "12         AUGUSTO FIGUEROA, CALLE, DE,33                27  "
      ]
     },
     "execution_count": 380,
     "metadata": {},
     "output_type": "execute_result"
    }
   ],
   "source": [
    "df_bikes_users.groupby('idplug_station').size().reset_index(name='rides').sort_values(by='rides', ascending=False).head(15).merge(df_bases[['Número', 'Distrito', 'DIRECCION', 'Número de Plazas']], left_on='idplug_station', right_on='Número')"
   ]
  },
  {
   "cell_type": "markdown",
   "metadata": {},
   "source": [
    "Estas son las estaciones más populares (tanto para desenganchar como para devolver bicis). Tiene sentido que sean prácticamente las mismas, ya que, al estar bien situadas, serán populares como para ser el origen de trayectos como el destino. Ninguna de estas estaciones tiene un número anómalo de plazas, lo que podría impactar en tener más trayectos (al tener disponibles más bicicletas)."
   ]
  },
  {
   "cell_type": "markdown",
   "metadata": {},
   "source": [
    "[TODO] Análisis de las estaciones para determinar si hay estaciones que funcionen más como \"generadoras\" (se desenganchan más bicis en ellas de las que se devuelven)."
   ]
  },
  {
   "cell_type": "markdown",
   "metadata": {},
   "source": [
    "### 6.2 Trayectos más populares"
   ]
  },
  {
   "cell_type": "code",
   "execution_count": 381,
   "metadata": {},
   "outputs": [
    {
     "data": {
      "text/html": [
       "<div>\n",
       "<style scoped>\n",
       "    .dataframe tbody tr th:only-of-type {\n",
       "        vertical-align: middle;\n",
       "    }\n",
       "\n",
       "    .dataframe tbody tr th {\n",
       "        vertical-align: top;\n",
       "    }\n",
       "\n",
       "    .dataframe thead th {\n",
       "        text-align: right;\n",
       "    }\n",
       "</style>\n",
       "<table border=\"1\" class=\"dataframe\">\n",
       "  <thead>\n",
       "    <tr style=\"text-align: right;\">\n",
       "      <th></th>\n",
       "      <th>idplug_station</th>\n",
       "      <th>idunplug_station</th>\n",
       "      <th>rides</th>\n",
       "    </tr>\n",
       "  </thead>\n",
       "  <tbody>\n",
       "    <tr>\n",
       "      <th>6355</th>\n",
       "      <td>135</td>\n",
       "      <td>57</td>\n",
       "      <td>247</td>\n",
       "    </tr>\n",
       "    <tr>\n",
       "      <th>19237</th>\n",
       "      <td>57</td>\n",
       "      <td>135</td>\n",
       "      <td>208</td>\n",
       "    </tr>\n",
       "    <tr>\n",
       "      <th>13064</th>\n",
       "      <td>175</td>\n",
       "      <td>135</td>\n",
       "      <td>201</td>\n",
       "    </tr>\n",
       "    <tr>\n",
       "      <th>8635</th>\n",
       "      <td>149</td>\n",
       "      <td>9</td>\n",
       "      <td>198</td>\n",
       "    </tr>\n",
       "    <tr>\n",
       "      <th>8550</th>\n",
       "      <td>149</td>\n",
       "      <td>163</td>\n",
       "      <td>190</td>\n",
       "    </tr>\n",
       "    <tr>\n",
       "      <th>6316</th>\n",
       "      <td>135</td>\n",
       "      <td>175</td>\n",
       "      <td>184</td>\n",
       "    </tr>\n",
       "    <tr>\n",
       "      <th>6269</th>\n",
       "      <td>135</td>\n",
       "      <td>132</td>\n",
       "      <td>184</td>\n",
       "    </tr>\n",
       "    <tr>\n",
       "      <th>6350</th>\n",
       "      <td>135</td>\n",
       "      <td>52</td>\n",
       "      <td>183</td>\n",
       "    </tr>\n",
       "    <tr>\n",
       "      <th>16031</th>\n",
       "      <td>38</td>\n",
       "      <td>175</td>\n",
       "      <td>176</td>\n",
       "    </tr>\n",
       "    <tr>\n",
       "      <th>11010</th>\n",
       "      <td>163</td>\n",
       "      <td>149</td>\n",
       "      <td>173</td>\n",
       "    </tr>\n",
       "    <tr>\n",
       "      <th>6341</th>\n",
       "      <td>135</td>\n",
       "      <td>43</td>\n",
       "      <td>171</td>\n",
       "    </tr>\n",
       "    <tr>\n",
       "      <th>10525</th>\n",
       "      <td>160</td>\n",
       "      <td>163</td>\n",
       "      <td>165</td>\n",
       "    </tr>\n",
       "    <tr>\n",
       "      <th>5786</th>\n",
       "      <td>132</td>\n",
       "      <td>135</td>\n",
       "      <td>163</td>\n",
       "    </tr>\n",
       "    <tr>\n",
       "      <th>17338</th>\n",
       "      <td>46</td>\n",
       "      <td>46</td>\n",
       "      <td>162</td>\n",
       "    </tr>\n",
       "    <tr>\n",
       "      <th>20601</th>\n",
       "      <td>64</td>\n",
       "      <td>64</td>\n",
       "      <td>159</td>\n",
       "    </tr>\n",
       "  </tbody>\n",
       "</table>\n",
       "</div>"
      ],
      "text/plain": [
       "      idplug_station idunplug_station  rides\n",
       "6355             135               57    247\n",
       "19237             57              135    208\n",
       "13064            175              135    201\n",
       "8635             149                9    198\n",
       "8550             149              163    190\n",
       "6316             135              175    184\n",
       "6269             135              132    184\n",
       "6350             135               52    183\n",
       "16031             38              175    176\n",
       "11010            163              149    173\n",
       "6341             135               43    171\n",
       "10525            160              163    165\n",
       "5786             132              135    163\n",
       "17338             46               46    162\n",
       "20601             64               64    159"
      ]
     },
     "execution_count": 381,
     "metadata": {},
     "output_type": "execute_result"
    }
   ],
   "source": [
    "df_bikes_users.groupby(['idplug_station', 'idunplug_station']).size().reset_index(name='rides').sort_values(by='rides', ascending=False).head(15)"
   ]
  },
  {
   "cell_type": "code",
   "execution_count": 382,
   "metadata": {},
   "outputs": [
    {
     "data": {
      "text/html": [
       "<div>\n",
       "<style scoped>\n",
       "    .dataframe tbody tr th:only-of-type {\n",
       "        vertical-align: middle;\n",
       "    }\n",
       "\n",
       "    .dataframe tbody tr th {\n",
       "        vertical-align: top;\n",
       "    }\n",
       "\n",
       "    .dataframe thead th {\n",
       "        text-align: right;\n",
       "    }\n",
       "</style>\n",
       "<table border=\"1\" class=\"dataframe\">\n",
       "  <thead>\n",
       "    <tr style=\"text-align: right;\">\n",
       "      <th></th>\n",
       "      <th>idplug_station</th>\n",
       "      <th>idunplug_station</th>\n",
       "      <th>rides</th>\n",
       "      <th>Distrito_src</th>\n",
       "      <th>Direccion_src</th>\n",
       "      <th>Distrito_dst</th>\n",
       "      <th>Direccion_dst</th>\n",
       "    </tr>\n",
       "  </thead>\n",
       "  <tbody>\n",
       "    <tr>\n",
       "      <th>4931</th>\n",
       "      <td>135</td>\n",
       "      <td>57</td>\n",
       "      <td>247</td>\n",
       "      <td>01  CENTRO</td>\n",
       "      <td>SANTA CRUZ DE MARCENADO, CALLE, DE,24</td>\n",
       "      <td>07  CHAMBERÍ</td>\n",
       "      <td>SAN JUAN DE LA CRUZ, PLAZA, DE,S/N</td>\n",
       "    </tr>\n",
       "    <tr>\n",
       "      <th>14107</th>\n",
       "      <td>57</td>\n",
       "      <td>135</td>\n",
       "      <td>208</td>\n",
       "      <td>07  CHAMBERÍ</td>\n",
       "      <td>SAN JUAN DE LA CRUZ, PLAZA, DE,S/N</td>\n",
       "      <td>01  CENTRO</td>\n",
       "      <td>SANTA CRUZ DE MARCENADO, CALLE, DE,24</td>\n",
       "    </tr>\n",
       "    <tr>\n",
       "      <th>6353</th>\n",
       "      <td>149</td>\n",
       "      <td>9</td>\n",
       "      <td>198</td>\n",
       "      <td>01  CENTRO</td>\n",
       "      <td>SAN MIGUEL, PLAZA, DE,9</td>\n",
       "      <td>05  CHAMARTÍN</td>\n",
       "      <td>LA HABANA, PASEO, DE,42</td>\n",
       "    </tr>\n",
       "    <tr>\n",
       "      <th>6281</th>\n",
       "      <td>149</td>\n",
       "      <td>163</td>\n",
       "      <td>190</td>\n",
       "      <td>02  ARGANZUELA</td>\n",
       "      <td>ESPERANZA, PASEO, DE LA,</td>\n",
       "      <td>05  CHAMARTÍN</td>\n",
       "      <td>LA HABANA, PASEO, DE,42</td>\n",
       "    </tr>\n",
       "    <tr>\n",
       "      <th>4855</th>\n",
       "      <td>135</td>\n",
       "      <td>132</td>\n",
       "      <td>184</td>\n",
       "      <td>07  CHAMBERÍ</td>\n",
       "      <td>SANTA ENGRACIA, CALLE, DE,168</td>\n",
       "      <td>07  CHAMBERÍ</td>\n",
       "      <td>SAN JUAN DE LA CRUZ, PLAZA, DE,S/N</td>\n",
       "    </tr>\n",
       "    <tr>\n",
       "      <th>4926</th>\n",
       "      <td>135</td>\n",
       "      <td>52</td>\n",
       "      <td>183</td>\n",
       "      <td>01  CENTRO</td>\n",
       "      <td>SANTA ANA, PLAZA, DE,9</td>\n",
       "      <td>07  CHAMBERÍ</td>\n",
       "      <td>SAN JUAN DE LA CRUZ, PLAZA, DE,S/N</td>\n",
       "    </tr>\n",
       "    <tr>\n",
       "      <th>8239</th>\n",
       "      <td>163</td>\n",
       "      <td>149</td>\n",
       "      <td>173</td>\n",
       "      <td>05  CHAMARTÍN</td>\n",
       "      <td>LA HABANA, PASEO, DE,42</td>\n",
       "      <td>02  ARGANZUELA</td>\n",
       "      <td>ESPERANZA, PASEO, DE LA,</td>\n",
       "    </tr>\n",
       "    <tr>\n",
       "      <th>4917</th>\n",
       "      <td>135</td>\n",
       "      <td>43</td>\n",
       "      <td>171</td>\n",
       "      <td>01  CENTRO</td>\n",
       "      <td>LAVAPIES, CALLE, DE,36</td>\n",
       "      <td>07  CHAMBERÍ</td>\n",
       "      <td>SAN JUAN DE LA CRUZ, PLAZA, DE,S/N</td>\n",
       "    </tr>\n",
       "    <tr>\n",
       "      <th>7802</th>\n",
       "      <td>160</td>\n",
       "      <td>163</td>\n",
       "      <td>165</td>\n",
       "      <td>02  ARGANZUELA</td>\n",
       "      <td>ESPERANZA, PASEO, DE LA,</td>\n",
       "      <td>05  CHAMARTÍN</td>\n",
       "      <td>COLOMBIA, CALLE, DE,7</td>\n",
       "    </tr>\n",
       "    <tr>\n",
       "      <th>4417</th>\n",
       "      <td>132</td>\n",
       "      <td>135</td>\n",
       "      <td>163</td>\n",
       "      <td>07  CHAMBERÍ</td>\n",
       "      <td>SAN JUAN DE LA CRUZ, PLAZA, DE,S/N</td>\n",
       "      <td>07  CHAMBERÍ</td>\n",
       "      <td>SANTA ENGRACIA, CALLE, DE,168</td>\n",
       "    </tr>\n",
       "  </tbody>\n",
       "</table>\n",
       "</div>"
      ],
      "text/plain": [
       "      idplug_station idunplug_station  rides    Distrito_src  \\\n",
       "4931             135               57    247      01  CENTRO   \n",
       "14107             57              135    208    07  CHAMBERÍ   \n",
       "6353             149                9    198      01  CENTRO   \n",
       "6281             149              163    190  02  ARGANZUELA   \n",
       "4855             135              132    184    07  CHAMBERÍ   \n",
       "4926             135               52    183      01  CENTRO   \n",
       "8239             163              149    173   05  CHAMARTÍN   \n",
       "4917             135               43    171      01  CENTRO   \n",
       "7802             160              163    165  02  ARGANZUELA   \n",
       "4417             132              135    163    07  CHAMBERÍ   \n",
       "\n",
       "                               Direccion_src    Distrito_dst  \\\n",
       "4931   SANTA CRUZ DE MARCENADO, CALLE, DE,24    07  CHAMBERÍ   \n",
       "14107     SAN JUAN DE LA CRUZ, PLAZA, DE,S/N      01  CENTRO   \n",
       "6353                 SAN MIGUEL, PLAZA, DE,9   05  CHAMARTÍN   \n",
       "6281                ESPERANZA, PASEO, DE LA,   05  CHAMARTÍN   \n",
       "4855           SANTA ENGRACIA, CALLE, DE,168    07  CHAMBERÍ   \n",
       "4926                  SANTA ANA, PLAZA, DE,9    07  CHAMBERÍ   \n",
       "8239                 LA HABANA, PASEO, DE,42  02  ARGANZUELA   \n",
       "4917                  LAVAPIES, CALLE, DE,36    07  CHAMBERÍ   \n",
       "7802                ESPERANZA, PASEO, DE LA,   05  CHAMARTÍN   \n",
       "4417      SAN JUAN DE LA CRUZ, PLAZA, DE,S/N    07  CHAMBERÍ   \n",
       "\n",
       "                               Direccion_dst  \n",
       "4931      SAN JUAN DE LA CRUZ, PLAZA, DE,S/N  \n",
       "14107  SANTA CRUZ DE MARCENADO, CALLE, DE,24  \n",
       "6353                 LA HABANA, PASEO, DE,42  \n",
       "6281                 LA HABANA, PASEO, DE,42  \n",
       "4855      SAN JUAN DE LA CRUZ, PLAZA, DE,S/N  \n",
       "4926      SAN JUAN DE LA CRUZ, PLAZA, DE,S/N  \n",
       "8239                ESPERANZA, PASEO, DE LA,  \n",
       "4917      SAN JUAN DE LA CRUZ, PLAZA, DE,S/N  \n",
       "7802                   COLOMBIA, CALLE, DE,7  \n",
       "4417           SANTA ENGRACIA, CALLE, DE,168  "
      ]
     },
     "execution_count": 382,
     "metadata": {},
     "output_type": "execute_result"
    }
   ],
   "source": [
    "df_bikes_rides = df_bikes_users.groupby(['idplug_station', 'idunplug_station']).size().reset_index(name='rides').merge(df_bases[['Número', 'Distrito', 'DIRECCION']], left_on='idunplug_station', right_on='Número')\n",
    "df_bikes_rides['Distrito_src'] = df_bikes_rides['Distrito']\n",
    "df_bikes_rides['Direccion_src'] = df_bikes_rides['DIRECCION']\n",
    "df_bikes_rides = df_bikes_rides.drop(columns=['Número', 'Distrito', 'DIRECCION'])\n",
    "df_bikes_rides = df_bikes_rides.merge(df_bases[['Número', 'Distrito', 'DIRECCION']], left_on='idplug_station', right_on='Número')\n",
    "df_bikes_rides['Distrito_dst'] = df_bikes_rides['Distrito']\n",
    "df_bikes_rides['Direccion_dst'] = df_bikes_rides['DIRECCION']\n",
    "df_bikes_rides = df_bikes_rides.drop(columns=['Número', 'Distrito', 'DIRECCION'])\n",
    "df_bikes_rides.sort_values(by='rides', ascending=False).head(10)"
   ]
  },
  {
   "cell_type": "markdown",
   "metadata": {},
   "source": [
    "Estos son los 10 trayectos más populares durante el mes de septiembre de 2018. "
   ]
  },
  {
   "cell_type": "markdown",
   "metadata": {},
   "source": [
    "#### 6.3 Estaciones más rentables:"
   ]
  },
  {
   "cell_type": "markdown",
   "metadata": {},
   "source": [
    "Tarifas de BiciMad, según su página web:\n",
    "\n",
    "Para usuarios con pase anual: \n",
    "- Primera fracción de 30 minutos: 0,50 €\n",
    "- Siguiente fracción de 30 minutos: 0,60 €\n",
    "- Bonificación por coger la bicicleta en estación excedentaria (con más de un 70% de ocupación): 0,10 €\n",
    "- Bonificación por devolver la bicicleta en estación deficitaria (con menos de un 30% de ocupación): 0,10 €\n",
    "- Bonificación por reserva anclaje en destino (no acumulable con bonificación por devolución en estación deficitaria): 0,10 €\n",
    "- Tarifa de penalización por haber excedido las dos horas, por hora o fracción: 4 € \n",
    "\n",
    "Para usuarios ocasionales: \n",
    "- Tarifa primera hora o fracción: 2 €\n",
    "- Tarifa segunda hora o fracción: 4 €\n",
    "- Bonificación por coger la bicicleta en estación excedentaria (con más de un 70% de ocupación):0,10 €\n",
    "- Bonificación por devolver la bicicleta en estación deficitaria (con menos de un 30% de ocupación): 0,10 €\n",
    "- Bonificación por reserva anclaje en destino (no acumulable con bonificación por devolución en estación deficitaria): 0,10 €\n",
    "- Tarifa de penalización por haber excedido las dos horas, por hora o fracción: 4 € "
   ]
  },
  {
   "cell_type": "markdown",
   "metadata": {},
   "source": [
    "Si, entre nuestros datos, dispusiéramos de la situación de cada una de las estaciones en t=0 (inicio del dataset) podríamos construir un proceso que calculase por horas el número de bicis y el número de plazas disponibles en cada estación por hora. De esta manera:\n",
    "- Podríamos obtener horas puntas en las que algunas estaciones se encontrasen sin bicis o sin anclajes disponibles (estaciones que se beneficiarían de más anclajes/más bicis)\n",
    "- Podríamos calcular el beneficio económico por trayecto teniendo en cuenta las bonificaciones por coger/devolver bici en estación excedentaria/deficitaria.\n"
   ]
  },
  {
   "cell_type": "markdown",
   "metadata": {},
   "source": [
    "De momento, calcuraremos el precio por trayecto sin tener en cuenta dichas bonificaciones ni el precio del pase anual. Además, sólo tendremos en cuenta usuarios ocasionales y poseedores de pase anual, así como trayectos de duración normal. "
   ]
  },
  {
   "cell_type": "code",
   "execution_count": 408,
   "metadata": {},
   "outputs": [],
   "source": [
    "df_bikes_normal_travel_time_1_2 = df_bikes_normal_travel_time[(df_bikes_normal_travel_time['user_type'] == '1') | (df_bikes_normal_travel_time['user_type'] == '2')]"
   ]
  },
  {
   "cell_type": "code",
   "execution_count": 410,
   "metadata": {},
   "outputs": [
    {
     "data": {
      "text/html": [
       "<div>\n",
       "<style scoped>\n",
       "    .dataframe tbody tr th:only-of-type {\n",
       "        vertical-align: middle;\n",
       "    }\n",
       "\n",
       "    .dataframe tbody tr th {\n",
       "        vertical-align: top;\n",
       "    }\n",
       "\n",
       "    .dataframe thead th {\n",
       "        text-align: right;\n",
       "    }\n",
       "</style>\n",
       "<table border=\"1\" class=\"dataframe\">\n",
       "  <thead>\n",
       "    <tr style=\"text-align: right;\">\n",
       "      <th></th>\n",
       "      <th>id</th>\n",
       "      <th>user_day_code</th>\n",
       "      <th>idplug_base</th>\n",
       "      <th>idunplug_base</th>\n",
       "      <th>idplug_station</th>\n",
       "      <th>idunplug_station</th>\n",
       "      <th>user_type</th>\n",
       "      <th>travel_time</th>\n",
       "      <th>ageRange</th>\n",
       "      <th>unplug_hourTime</th>\n",
       "      <th>zip_code</th>\n",
       "      <th>revenue</th>\n",
       "    </tr>\n",
       "  </thead>\n",
       "  <tbody>\n",
       "    <tr>\n",
       "      <th>0</th>\n",
       "      <td>5b9058462f38434ab0d85cd3</td>\n",
       "      <td>ead1db07fa526e19fe237115d5516fbdc5acb99057b885...</td>\n",
       "      <td>5</td>\n",
       "      <td>17</td>\n",
       "      <td>16</td>\n",
       "      <td>40</td>\n",
       "      <td>1</td>\n",
       "      <td>4.383333</td>\n",
       "      <td>0</td>\n",
       "      <td>2018-09-01T01:00:00.000+0200</td>\n",
       "      <td>NaN</td>\n",
       "      <td>0</td>\n",
       "    </tr>\n",
       "    <tr>\n",
       "      <th>1</th>\n",
       "      <td>5b9058462f38434ab0d85ce9</td>\n",
       "      <td>420d9e220bd8816681162e15e9afcb1c69c5a756090728...</td>\n",
       "      <td>12</td>\n",
       "      <td>26</td>\n",
       "      <td>52</td>\n",
       "      <td>85</td>\n",
       "      <td>1</td>\n",
       "      <td>6.366667</td>\n",
       "      <td>2</td>\n",
       "      <td>2018-09-01T01:00:00.000+0200</td>\n",
       "      <td>28009</td>\n",
       "      <td>0</td>\n",
       "    </tr>\n",
       "    <tr>\n",
       "      <th>2</th>\n",
       "      <td>5b9058462f38434ab0d85ced</td>\n",
       "      <td>780f5c8157efe8e6dca44dbd689817d4b126364fca917f...</td>\n",
       "      <td>1</td>\n",
       "      <td>11</td>\n",
       "      <td>58</td>\n",
       "      <td>109</td>\n",
       "      <td>1</td>\n",
       "      <td>5.083333</td>\n",
       "      <td>4</td>\n",
       "      <td>2018-09-01T01:00:00.000+0200</td>\n",
       "      <td>28004</td>\n",
       "      <td>0</td>\n",
       "    </tr>\n",
       "    <tr>\n",
       "      <th>3</th>\n",
       "      <td>5b9058462f38434ab0d85cee</td>\n",
       "      <td>a225ab7b4b74954cd9fbe8cc2ec63390cd04e92cdd1a2f...</td>\n",
       "      <td>1</td>\n",
       "      <td>1</td>\n",
       "      <td>120</td>\n",
       "      <td>168</td>\n",
       "      <td>1</td>\n",
       "      <td>4.366667</td>\n",
       "      <td>4</td>\n",
       "      <td>2018-09-01T01:00:00.000+0200</td>\n",
       "      <td>28015</td>\n",
       "      <td>0</td>\n",
       "    </tr>\n",
       "    <tr>\n",
       "      <th>4</th>\n",
       "      <td>5b9058462f38434ab0d85cef</td>\n",
       "      <td>867f38545733bc5f0c69d2592d228e01b3a39daa143e8b...</td>\n",
       "      <td>19</td>\n",
       "      <td>8</td>\n",
       "      <td>80</td>\n",
       "      <td>89</td>\n",
       "      <td>1</td>\n",
       "      <td>5.166667</td>\n",
       "      <td>4</td>\n",
       "      <td>2018-09-01T01:00:00.000+0200</td>\n",
       "      <td>28007</td>\n",
       "      <td>0</td>\n",
       "    </tr>\n",
       "    <tr>\n",
       "      <th>...</th>\n",
       "      <td>...</td>\n",
       "      <td>...</td>\n",
       "      <td>...</td>\n",
       "      <td>...</td>\n",
       "      <td>...</td>\n",
       "      <td>...</td>\n",
       "      <td>...</td>\n",
       "      <td>...</td>\n",
       "      <td>...</td>\n",
       "      <td>...</td>\n",
       "      <td>...</td>\n",
       "      <td>...</td>\n",
       "    </tr>\n",
       "    <tr>\n",
       "      <th>398035</th>\n",
       "      <td>5bb3f1122f38430d780005ec</td>\n",
       "      <td>0543138a1925d67c06cde2e697950be87a33c8f093f522...</td>\n",
       "      <td>24</td>\n",
       "      <td>5</td>\n",
       "      <td>19</td>\n",
       "      <td>161</td>\n",
       "      <td>1</td>\n",
       "      <td>8.750000</td>\n",
       "      <td>5</td>\n",
       "      <td>2018-09-28T08:00:00.000+0200</td>\n",
       "      <td>28003</td>\n",
       "      <td>0</td>\n",
       "    </tr>\n",
       "    <tr>\n",
       "      <th>398036</th>\n",
       "      <td>5bb3f1122f38430d780005ed</td>\n",
       "      <td>f1268f405525ec0cbc9d82cd094cf824f0ae03ee4bae1b...</td>\n",
       "      <td>14</td>\n",
       "      <td>2</td>\n",
       "      <td>84</td>\n",
       "      <td>135</td>\n",
       "      <td>1</td>\n",
       "      <td>12.450000</td>\n",
       "      <td>5</td>\n",
       "      <td>2018-09-28T08:00:00.000+0200</td>\n",
       "      <td>28045</td>\n",
       "      <td>0</td>\n",
       "    </tr>\n",
       "    <tr>\n",
       "      <th>398037</th>\n",
       "      <td>5bb3f1122f38430d780005ee</td>\n",
       "      <td>0c26f5985ebad9e09e541e9a1f192b518d6d627740934f...</td>\n",
       "      <td>10</td>\n",
       "      <td>3</td>\n",
       "      <td>1</td>\n",
       "      <td>31</td>\n",
       "      <td>1</td>\n",
       "      <td>4.766667</td>\n",
       "      <td>0</td>\n",
       "      <td>2018-09-28T08:00:00.000+0200</td>\n",
       "      <td>NaN</td>\n",
       "      <td>0</td>\n",
       "    </tr>\n",
       "    <tr>\n",
       "      <th>398038</th>\n",
       "      <td>5bb3f1122f38430d780005ef</td>\n",
       "      <td>7e7ea3a999d7b2562bcfa073350fae5cb3063694407a5f...</td>\n",
       "      <td>11</td>\n",
       "      <td>1</td>\n",
       "      <td>169</td>\n",
       "      <td>149</td>\n",
       "      <td>1</td>\n",
       "      <td>9.233333</td>\n",
       "      <td>0</td>\n",
       "      <td>2018-09-28T08:00:00.000+0200</td>\n",
       "      <td>NaN</td>\n",
       "      <td>0</td>\n",
       "    </tr>\n",
       "    <tr>\n",
       "      <th>398039</th>\n",
       "      <td>5bb3f1122f38430d780005f0</td>\n",
       "      <td>518200eea9f1f84c2202072c09367a799fbadbb7c33a25...</td>\n",
       "      <td>22</td>\n",
       "      <td>24</td>\n",
       "      <td>65</td>\n",
       "      <td>100</td>\n",
       "      <td>1</td>\n",
       "      <td>9.216667</td>\n",
       "      <td>2</td>\n",
       "      <td>2018-09-28T08:00:00.000+0200</td>\n",
       "      <td>28006</td>\n",
       "      <td>0</td>\n",
       "    </tr>\n",
       "  </tbody>\n",
       "</table>\n",
       "<p>344157 rows × 12 columns</p>\n",
       "</div>"
      ],
      "text/plain": [
       "                              id  \\\n",
       "0       5b9058462f38434ab0d85cd3   \n",
       "1       5b9058462f38434ab0d85ce9   \n",
       "2       5b9058462f38434ab0d85ced   \n",
       "3       5b9058462f38434ab0d85cee   \n",
       "4       5b9058462f38434ab0d85cef   \n",
       "...                          ...   \n",
       "398035  5bb3f1122f38430d780005ec   \n",
       "398036  5bb3f1122f38430d780005ed   \n",
       "398037  5bb3f1122f38430d780005ee   \n",
       "398038  5bb3f1122f38430d780005ef   \n",
       "398039  5bb3f1122f38430d780005f0   \n",
       "\n",
       "                                            user_day_code idplug_base  \\\n",
       "0       ead1db07fa526e19fe237115d5516fbdc5acb99057b885...           5   \n",
       "1       420d9e220bd8816681162e15e9afcb1c69c5a756090728...          12   \n",
       "2       780f5c8157efe8e6dca44dbd689817d4b126364fca917f...           1   \n",
       "3       a225ab7b4b74954cd9fbe8cc2ec63390cd04e92cdd1a2f...           1   \n",
       "4       867f38545733bc5f0c69d2592d228e01b3a39daa143e8b...          19   \n",
       "...                                                   ...         ...   \n",
       "398035  0543138a1925d67c06cde2e697950be87a33c8f093f522...          24   \n",
       "398036  f1268f405525ec0cbc9d82cd094cf824f0ae03ee4bae1b...          14   \n",
       "398037  0c26f5985ebad9e09e541e9a1f192b518d6d627740934f...          10   \n",
       "398038  7e7ea3a999d7b2562bcfa073350fae5cb3063694407a5f...          11   \n",
       "398039  518200eea9f1f84c2202072c09367a799fbadbb7c33a25...          22   \n",
       "\n",
       "       idunplug_base idplug_station idunplug_station user_type  travel_time  \\\n",
       "0                 17             16               40         1     4.383333   \n",
       "1                 26             52               85         1     6.366667   \n",
       "2                 11             58              109         1     5.083333   \n",
       "3                  1            120              168         1     4.366667   \n",
       "4                  8             80               89         1     5.166667   \n",
       "...              ...            ...              ...       ...          ...   \n",
       "398035             5             19              161         1     8.750000   \n",
       "398036             2             84              135         1    12.450000   \n",
       "398037             3              1               31         1     4.766667   \n",
       "398038             1            169              149         1     9.233333   \n",
       "398039            24             65              100         1     9.216667   \n",
       "\n",
       "       ageRange               unplug_hourTime zip_code  revenue  \n",
       "0             0  2018-09-01T01:00:00.000+0200      NaN        0  \n",
       "1             2  2018-09-01T01:00:00.000+0200    28009        0  \n",
       "2             4  2018-09-01T01:00:00.000+0200    28004        0  \n",
       "3             4  2018-09-01T01:00:00.000+0200    28015        0  \n",
       "4             4  2018-09-01T01:00:00.000+0200    28007        0  \n",
       "...         ...                           ...      ...      ...  \n",
       "398035        5  2018-09-28T08:00:00.000+0200    28003        0  \n",
       "398036        5  2018-09-28T08:00:00.000+0200    28045        0  \n",
       "398037        0  2018-09-28T08:00:00.000+0200      NaN        0  \n",
       "398038        0  2018-09-28T08:00:00.000+0200      NaN        0  \n",
       "398039        2  2018-09-28T08:00:00.000+0200    28006        0  \n",
       "\n",
       "[344157 rows x 12 columns]"
      ]
     },
     "execution_count": 410,
     "metadata": {},
     "output_type": "execute_result"
    }
   ],
   "source": [
    "df_bikes_normal_travel_time_1_2"
   ]
  },
  {
   "cell_type": "code",
   "execution_count": 383,
   "metadata": {},
   "outputs": [],
   "source": [
    "def ride_to_revenue(travel_time, user_type):\n",
    "    USER_TYPE_ANNUAL = '1'\n",
    "    USER_TYPE_OCCASIONAL = '2'\n",
    "    if user_type == USER_TYPE_ANNUAL:\n",
    "        if travel_time <= 30:\n",
    "            revenue = 0.5\n",
    "        elif travel_time > 30:\n",
    "            revenue = 0.5 + ( 0.6 * math.ceil((travel_time-1800)/1800) )\n",
    "        if travel_time >= 120:  # more than 2 hours\n",
    "            revenue += 4 * math.ceil((travel_time-120)/60) # how many hours are exceeding 2h  \n",
    "    elif user_type == USER_TYPE_OCCASIONAL:\n",
    "        if ride_time <= 30: # less than 1 hour\n",
    "            revenue = 2\n",
    "        elif travel_time > 30: # between 1 hour and 2 hours\n",
    "            revenue = 2 + 4\n",
    "        if travel_time > 120:\n",
    "            revenue += 4 * math.ceil((travel_time-120)/60) # how many hours are exceeding 2h\n",
    "    else:\n",
    "        revenue = 0\n",
    "    return revenue   "
   ]
  },
  {
   "cell_type": "code",
   "execution_count": 366,
   "metadata": {},
   "outputs": [],
   "source": [
    "def compute_revenue(df):\n",
    "    return ride_to_revenue(df['user_type'], df['travel_time'])"
   ]
  },
  {
   "cell_type": "markdown",
   "metadata": {},
   "source": [
    "# PROBLEMA CON SETTINGWITHCOPY"
   ]
  },
  {
   "cell_type": "code",
   "execution_count": 414,
   "metadata": {},
   "outputs": [],
   "source": [
    "df_bikes_normal_travel_time_1_2_copy = df_bikes_normal_travel_time_1_2.copy()\n",
    "df_bikes_normal_travel_time_1_2_copy['revenue'] = df_bikes_normal_travel_time_1_2_copy.apply(compute_revenue, axis=1)"
   ]
  },
  {
   "cell_type": "code",
   "execution_count": 418,
   "metadata": {},
   "outputs": [
    {
     "data": {
      "text/html": [
       "<div>\n",
       "<style scoped>\n",
       "    .dataframe tbody tr th:only-of-type {\n",
       "        vertical-align: middle;\n",
       "    }\n",
       "\n",
       "    .dataframe tbody tr th {\n",
       "        vertical-align: top;\n",
       "    }\n",
       "\n",
       "    .dataframe thead th {\n",
       "        text-align: right;\n",
       "    }\n",
       "</style>\n",
       "<table border=\"1\" class=\"dataframe\">\n",
       "  <thead>\n",
       "    <tr style=\"text-align: right;\">\n",
       "      <th></th>\n",
       "      <th>id</th>\n",
       "      <th>user_day_code</th>\n",
       "      <th>idplug_base</th>\n",
       "      <th>idunplug_base</th>\n",
       "      <th>idplug_station</th>\n",
       "      <th>idunplug_station</th>\n",
       "      <th>user_type</th>\n",
       "      <th>travel_time</th>\n",
       "      <th>ageRange</th>\n",
       "      <th>unplug_hourTime</th>\n",
       "      <th>zip_code</th>\n",
       "      <th>revenue</th>\n",
       "    </tr>\n",
       "  </thead>\n",
       "  <tbody>\n",
       "    <tr>\n",
       "      <th>0</th>\n",
       "      <td>5b9058462f38434ab0d85cd3</td>\n",
       "      <td>ead1db07fa526e19fe237115d5516fbdc5acb99057b885...</td>\n",
       "      <td>5</td>\n",
       "      <td>17</td>\n",
       "      <td>16</td>\n",
       "      <td>40</td>\n",
       "      <td>1</td>\n",
       "      <td>4.383333</td>\n",
       "      <td>0</td>\n",
       "      <td>2018-09-01T01:00:00.000+0200</td>\n",
       "      <td>NaN</td>\n",
       "      <td>0</td>\n",
       "    </tr>\n",
       "    <tr>\n",
       "      <th>1</th>\n",
       "      <td>5b9058462f38434ab0d85ce9</td>\n",
       "      <td>420d9e220bd8816681162e15e9afcb1c69c5a756090728...</td>\n",
       "      <td>12</td>\n",
       "      <td>26</td>\n",
       "      <td>52</td>\n",
       "      <td>85</td>\n",
       "      <td>1</td>\n",
       "      <td>6.366667</td>\n",
       "      <td>2</td>\n",
       "      <td>2018-09-01T01:00:00.000+0200</td>\n",
       "      <td>28009</td>\n",
       "      <td>0</td>\n",
       "    </tr>\n",
       "    <tr>\n",
       "      <th>2</th>\n",
       "      <td>5b9058462f38434ab0d85ced</td>\n",
       "      <td>780f5c8157efe8e6dca44dbd689817d4b126364fca917f...</td>\n",
       "      <td>1</td>\n",
       "      <td>11</td>\n",
       "      <td>58</td>\n",
       "      <td>109</td>\n",
       "      <td>1</td>\n",
       "      <td>5.083333</td>\n",
       "      <td>4</td>\n",
       "      <td>2018-09-01T01:00:00.000+0200</td>\n",
       "      <td>28004</td>\n",
       "      <td>0</td>\n",
       "    </tr>\n",
       "    <tr>\n",
       "      <th>3</th>\n",
       "      <td>5b9058462f38434ab0d85cee</td>\n",
       "      <td>a225ab7b4b74954cd9fbe8cc2ec63390cd04e92cdd1a2f...</td>\n",
       "      <td>1</td>\n",
       "      <td>1</td>\n",
       "      <td>120</td>\n",
       "      <td>168</td>\n",
       "      <td>1</td>\n",
       "      <td>4.366667</td>\n",
       "      <td>4</td>\n",
       "      <td>2018-09-01T01:00:00.000+0200</td>\n",
       "      <td>28015</td>\n",
       "      <td>0</td>\n",
       "    </tr>\n",
       "    <tr>\n",
       "      <th>4</th>\n",
       "      <td>5b9058462f38434ab0d85cef</td>\n",
       "      <td>867f38545733bc5f0c69d2592d228e01b3a39daa143e8b...</td>\n",
       "      <td>19</td>\n",
       "      <td>8</td>\n",
       "      <td>80</td>\n",
       "      <td>89</td>\n",
       "      <td>1</td>\n",
       "      <td>5.166667</td>\n",
       "      <td>4</td>\n",
       "      <td>2018-09-01T01:00:00.000+0200</td>\n",
       "      <td>28007</td>\n",
       "      <td>0</td>\n",
       "    </tr>\n",
       "    <tr>\n",
       "      <th>...</th>\n",
       "      <td>...</td>\n",
       "      <td>...</td>\n",
       "      <td>...</td>\n",
       "      <td>...</td>\n",
       "      <td>...</td>\n",
       "      <td>...</td>\n",
       "      <td>...</td>\n",
       "      <td>...</td>\n",
       "      <td>...</td>\n",
       "      <td>...</td>\n",
       "      <td>...</td>\n",
       "      <td>...</td>\n",
       "    </tr>\n",
       "    <tr>\n",
       "      <th>398035</th>\n",
       "      <td>5bb3f1122f38430d780005ec</td>\n",
       "      <td>0543138a1925d67c06cde2e697950be87a33c8f093f522...</td>\n",
       "      <td>24</td>\n",
       "      <td>5</td>\n",
       "      <td>19</td>\n",
       "      <td>161</td>\n",
       "      <td>1</td>\n",
       "      <td>8.750000</td>\n",
       "      <td>5</td>\n",
       "      <td>2018-09-28T08:00:00.000+0200</td>\n",
       "      <td>28003</td>\n",
       "      <td>0</td>\n",
       "    </tr>\n",
       "    <tr>\n",
       "      <th>398036</th>\n",
       "      <td>5bb3f1122f38430d780005ed</td>\n",
       "      <td>f1268f405525ec0cbc9d82cd094cf824f0ae03ee4bae1b...</td>\n",
       "      <td>14</td>\n",
       "      <td>2</td>\n",
       "      <td>84</td>\n",
       "      <td>135</td>\n",
       "      <td>1</td>\n",
       "      <td>12.450000</td>\n",
       "      <td>5</td>\n",
       "      <td>2018-09-28T08:00:00.000+0200</td>\n",
       "      <td>28045</td>\n",
       "      <td>0</td>\n",
       "    </tr>\n",
       "    <tr>\n",
       "      <th>398037</th>\n",
       "      <td>5bb3f1122f38430d780005ee</td>\n",
       "      <td>0c26f5985ebad9e09e541e9a1f192b518d6d627740934f...</td>\n",
       "      <td>10</td>\n",
       "      <td>3</td>\n",
       "      <td>1</td>\n",
       "      <td>31</td>\n",
       "      <td>1</td>\n",
       "      <td>4.766667</td>\n",
       "      <td>0</td>\n",
       "      <td>2018-09-28T08:00:00.000+0200</td>\n",
       "      <td>NaN</td>\n",
       "      <td>0</td>\n",
       "    </tr>\n",
       "    <tr>\n",
       "      <th>398038</th>\n",
       "      <td>5bb3f1122f38430d780005ef</td>\n",
       "      <td>7e7ea3a999d7b2562bcfa073350fae5cb3063694407a5f...</td>\n",
       "      <td>11</td>\n",
       "      <td>1</td>\n",
       "      <td>169</td>\n",
       "      <td>149</td>\n",
       "      <td>1</td>\n",
       "      <td>9.233333</td>\n",
       "      <td>0</td>\n",
       "      <td>2018-09-28T08:00:00.000+0200</td>\n",
       "      <td>NaN</td>\n",
       "      <td>0</td>\n",
       "    </tr>\n",
       "    <tr>\n",
       "      <th>398039</th>\n",
       "      <td>5bb3f1122f38430d780005f0</td>\n",
       "      <td>518200eea9f1f84c2202072c09367a799fbadbb7c33a25...</td>\n",
       "      <td>22</td>\n",
       "      <td>24</td>\n",
       "      <td>65</td>\n",
       "      <td>100</td>\n",
       "      <td>1</td>\n",
       "      <td>9.216667</td>\n",
       "      <td>2</td>\n",
       "      <td>2018-09-28T08:00:00.000+0200</td>\n",
       "      <td>28006</td>\n",
       "      <td>0</td>\n",
       "    </tr>\n",
       "  </tbody>\n",
       "</table>\n",
       "<p>344157 rows × 12 columns</p>\n",
       "</div>"
      ],
      "text/plain": [
       "                              id  \\\n",
       "0       5b9058462f38434ab0d85cd3   \n",
       "1       5b9058462f38434ab0d85ce9   \n",
       "2       5b9058462f38434ab0d85ced   \n",
       "3       5b9058462f38434ab0d85cee   \n",
       "4       5b9058462f38434ab0d85cef   \n",
       "...                          ...   \n",
       "398035  5bb3f1122f38430d780005ec   \n",
       "398036  5bb3f1122f38430d780005ed   \n",
       "398037  5bb3f1122f38430d780005ee   \n",
       "398038  5bb3f1122f38430d780005ef   \n",
       "398039  5bb3f1122f38430d780005f0   \n",
       "\n",
       "                                            user_day_code idplug_base  \\\n",
       "0       ead1db07fa526e19fe237115d5516fbdc5acb99057b885...           5   \n",
       "1       420d9e220bd8816681162e15e9afcb1c69c5a756090728...          12   \n",
       "2       780f5c8157efe8e6dca44dbd689817d4b126364fca917f...           1   \n",
       "3       a225ab7b4b74954cd9fbe8cc2ec63390cd04e92cdd1a2f...           1   \n",
       "4       867f38545733bc5f0c69d2592d228e01b3a39daa143e8b...          19   \n",
       "...                                                   ...         ...   \n",
       "398035  0543138a1925d67c06cde2e697950be87a33c8f093f522...          24   \n",
       "398036  f1268f405525ec0cbc9d82cd094cf824f0ae03ee4bae1b...          14   \n",
       "398037  0c26f5985ebad9e09e541e9a1f192b518d6d627740934f...          10   \n",
       "398038  7e7ea3a999d7b2562bcfa073350fae5cb3063694407a5f...          11   \n",
       "398039  518200eea9f1f84c2202072c09367a799fbadbb7c33a25...          22   \n",
       "\n",
       "       idunplug_base idplug_station idunplug_station user_type  travel_time  \\\n",
       "0                 17             16               40         1     4.383333   \n",
       "1                 26             52               85         1     6.366667   \n",
       "2                 11             58              109         1     5.083333   \n",
       "3                  1            120              168         1     4.366667   \n",
       "4                  8             80               89         1     5.166667   \n",
       "...              ...            ...              ...       ...          ...   \n",
       "398035             5             19              161         1     8.750000   \n",
       "398036             2             84              135         1    12.450000   \n",
       "398037             3              1               31         1     4.766667   \n",
       "398038             1            169              149         1     9.233333   \n",
       "398039            24             65              100         1     9.216667   \n",
       "\n",
       "       ageRange               unplug_hourTime zip_code  revenue  \n",
       "0             0  2018-09-01T01:00:00.000+0200      NaN        0  \n",
       "1             2  2018-09-01T01:00:00.000+0200    28009        0  \n",
       "2             4  2018-09-01T01:00:00.000+0200    28004        0  \n",
       "3             4  2018-09-01T01:00:00.000+0200    28015        0  \n",
       "4             4  2018-09-01T01:00:00.000+0200    28007        0  \n",
       "...         ...                           ...      ...      ...  \n",
       "398035        5  2018-09-28T08:00:00.000+0200    28003        0  \n",
       "398036        5  2018-09-28T08:00:00.000+0200    28045        0  \n",
       "398037        0  2018-09-28T08:00:00.000+0200      NaN        0  \n",
       "398038        0  2018-09-28T08:00:00.000+0200      NaN        0  \n",
       "398039        2  2018-09-28T08:00:00.000+0200    28006        0  \n",
       "\n",
       "[344157 rows x 12 columns]"
      ]
     },
     "execution_count": 418,
     "metadata": {},
     "output_type": "execute_result"
    }
   ],
   "source": [
    "df_bikes_normal_travel_time_1_2_copy"
   ]
  },
  {
   "cell_type": "code",
   "execution_count": 417,
   "metadata": {},
   "outputs": [
    {
     "data": {
      "text/plain": [
       "array([0])"
      ]
     },
     "execution_count": 417,
     "metadata": {},
     "output_type": "execute_result"
    }
   ],
   "source": [
    "df_bikes_normal_travel_time_1_2_copy['revenue'].unique()"
   ]
  },
  {
   "cell_type": "markdown",
   "metadata": {},
   "source": [
    "Para analizar estos beneficios económicos, podríamos realizar una división del total de los trayectos para inferir su propósito, pudiendo ser este:\n",
    "- Ir/volver al trabajo\n",
    "- Dar un paseo el fin de semana\n",
    "- Volver a casa los fines de semana después de actividades nocturnas\n",
    "Y tratar de inferir el tipo de trayecto que genera más beneficio."
   ]
  },
  {
   "cell_type": "markdown",
   "metadata": {},
   "source": []
  }
 ],
 "metadata": {
  "kernelspec": {
   "display_name": "Python 3",
   "language": "python",
   "name": "python3"
  },
  "language_info": {
   "codemirror_mode": {
    "name": "ipython",
    "version": 3
   },
   "file_extension": ".py",
   "mimetype": "text/x-python",
   "name": "python",
   "nbconvert_exporter": "python",
   "pygments_lexer": "ipython3",
   "version": "3.7.6"
  }
 },
 "nbformat": 4,
 "nbformat_minor": 4
}
